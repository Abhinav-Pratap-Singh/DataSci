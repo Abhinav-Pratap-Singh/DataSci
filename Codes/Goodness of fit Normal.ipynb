{
 "cells": [
  {
   "cell_type": "code",
   "execution_count": 1,
   "id": "6fd2c53f",
   "metadata": {},
   "outputs": [],
   "source": [
    "from scipy.stats import chi2,norm\n",
    "import numpy as np\n",
    "import statistics"
   ]
  },
  {
   "cell_type": "code",
   "execution_count": 2,
   "id": "ac7fa368",
   "metadata": {},
   "outputs": [],
   "source": [
    "score=np.array([5,5,9,6,2,5,2,5,5,6])"
   ]
  },
  {
   "cell_type": "code",
   "execution_count": 3,
   "id": "21213695",
   "metadata": {},
   "outputs": [],
   "source": [
    "X_bar=score.mean()\n",
    "s=score.std(ddof=1)"
   ]
  },
  {
   "cell_type": "code",
   "execution_count": 7,
   "id": "f03dc1af",
   "metadata": {},
   "outputs": [
    {
     "name": "stdout",
     "output_type": "stream",
     "text": [
      "5.0\n",
      "5.0\n",
      "5\n",
      "2.0\n"
     ]
    }
   ],
   "source": [
    "print(X_bar)\n",
    "print(statistics.median(score))\n",
    "print(statistics.mode(score))\n",
    "print(s)"
   ]
  },
  {
   "cell_type": "code",
   "execution_count": 11,
   "id": "9e114522",
   "metadata": {},
   "outputs": [
    {
     "name": "stdout",
     "output_type": "stream",
     "text": [
      "[-inf, 2.4368968689107993, 3.3167575328541714, 3.951198974583918, 4.493305793728401, 5.0, 5.506694206271599, 6.048801025416081, 6.683242467145829, 7.563103131089201, inf]\n"
     ]
    }
   ],
   "source": [
    "bins=[-float('inf')]\n",
    "for i in range(9):\n",
    "    p=(i+1)/10;\n",
    "    z=norm.ppf(p);\n",
    "    bound=X_bar+z*s\n",
    "   # print [p,'{:6.4f}'.format(z),'{:6.4f}'.format(bound)]\n",
    "    bins.append(bound)\n",
    "bins.append(float('inf'))\n",
    "print(bins)"
   ]
  },
  {
   "cell_type": "code",
   "execution_count": 13,
   "id": "32332c38",
   "metadata": {},
   "outputs": [
    {
     "ename": "TypeError",
     "evalue": "append() takes exactly one argument (2 given)",
     "output_type": "error",
     "traceback": [
      "\u001b[1;31m---------------------------------------------------------------------------\u001b[0m",
      "\u001b[1;31mTypeError\u001b[0m                                 Traceback (most recent call last)",
      "\u001b[1;32m<ipython-input-13-5158e3cbbaeb>\u001b[0m in \u001b[0;36m<module>\u001b[1;34m\u001b[0m\n\u001b[0;32m      3\u001b[0m     \u001b[0mobserved\u001b[0m\u001b[1;33m,\u001b[0m\u001b[0mexpected\u001b[0m\u001b[1;33m=\u001b[0m\u001b[0msum\u001b[0m\u001b[1;33m(\u001b[0m\u001b[0mnum\u001b[0m\u001b[1;33m>=\u001b[0m\u001b[0mbins\u001b[0m\u001b[1;33m[\u001b[0m\u001b[0mi\u001b[0m\u001b[1;33m]\u001b[0m \u001b[1;32mand\u001b[0m \u001b[0mnum\u001b[0m \u001b[1;33m<\u001b[0m\u001b[0mbins\u001b[0m\u001b[1;33m[\u001b[0m\u001b[0mi\u001b[0m\u001b[1;33m+\u001b[0m\u001b[1;36m1\u001b[0m\u001b[1;33m]\u001b[0m \u001b[1;32mfor\u001b[0m \u001b[0mnum\u001b[0m \u001b[1;32min\u001b[0m \u001b[0mscore\u001b[0m\u001b[1;33m)\u001b[0m\u001b[1;33m,\u001b[0m\u001b[1;36m50\u001b[0m\u001b[1;33m*\u001b[0m\u001b[1;36m.1\u001b[0m\u001b[1;33m\u001b[0m\u001b[1;33m\u001b[0m\u001b[0m\n\u001b[0;32m      4\u001b[0m \u001b[1;33m\u001b[0m\u001b[0m\n\u001b[1;32m----> 5\u001b[1;33m     \u001b[0mfre\u001b[0m\u001b[1;33m.\u001b[0m\u001b[0mappend\u001b[0m\u001b[1;33m(\u001b[0m\u001b[0mobserved\u001b[0m\u001b[1;33m,\u001b[0m\u001b[0mexpected\u001b[0m\u001b[1;33m)\u001b[0m\u001b[1;33m\u001b[0m\u001b[1;33m\u001b[0m\u001b[0m\n\u001b[0m",
      "\u001b[1;31mTypeError\u001b[0m: append() takes exactly one argument (2 given)"
     ]
    }
   ],
   "source": [
    "fre=[]\n",
    "for i in range(10):\n",
    "    observed,expected=sum(num>=bins[i] and num <bins[i+1] for num in score),50*.1\n",
    "    \n",
    "    fre.append(observed,expected)"
   ]
  },
  {
   "cell_type": "code",
   "execution_count": null,
   "id": "f51b7b0a",
   "metadata": {},
   "outputs": [],
   "source": []
  }
 ],
 "metadata": {
  "kernelspec": {
   "display_name": "Python 3",
   "language": "python",
   "name": "python3"
  },
  "language_info": {
   "codemirror_mode": {
    "name": "ipython",
    "version": 3
   },
   "file_extension": ".py",
   "mimetype": "text/x-python",
   "name": "python",
   "nbconvert_exporter": "python",
   "pygments_lexer": "ipython3",
   "version": "3.8.8"
  }
 },
 "nbformat": 4,
 "nbformat_minor": 5
}
