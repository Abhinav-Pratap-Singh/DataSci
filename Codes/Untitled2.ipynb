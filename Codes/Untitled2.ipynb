{
 "cells": [
  {
   "cell_type": "code",
   "execution_count": 12,
   "id": "8b651d1d",
   "metadata": {},
   "outputs": [
    {
     "name": "stdout",
     "output_type": "stream",
     "text": [
      "Yes\n"
     ]
    }
   ],
   "source": [
    "#Q1.Check whether Binary Matrix or not ?\n",
    "def BinaryMatrix(mat):\n",
    "    for i in range(3):\n",
    "        for j in range(3):\n",
    "            if ((mat[i][j] == 0 or mat[i][j] == 1)==False):\n",
    "                return False;\n",
    "    return True;\n",
    "\n",
    "\n",
    "if __name__=='__main__':\n",
    "    mat = [[ 1, 0, 1 ],[0, 1, 0],[ 1, 1, 1]]\n",
    "    if(BinaryMatrix(mat)):\n",
    "        print(\"Yes\")"
   ]
  },
  {
   "cell_type": "code",
   "execution_count": 17,
   "id": "8e3e376a",
   "metadata": {},
   "outputs": [
    {
     "name": "stdout",
     "output_type": "stream",
     "text": [
      "Enter the value of n5\n",
      "1\n",
      "121\n",
      "12321\n",
      "1234321\n",
      "123454321\n"
     ]
    }
   ],
   "source": [
    "n=int(input(\"Enter the value of n\"))\n",
    "for i in range(1,n+1):\n",
    "    print (((10 ** i - 1) // 9) ** 2)\n",
    "        "
   ]
  },
  {
   "cell_type": "code",
   "execution_count": 21,
   "id": "8a4fcd38",
   "metadata": {},
   "outputs": [
    {
     "name": "stdout",
     "output_type": "stream",
     "text": [
      "Second Division\n"
     ]
    }
   ],
   "source": [
    "marks = [90,99,39,47,90]\n",
    "avg = sum(marks)\n",
    "avg = avg/len(marks)\n",
    "if avg>90:\n",
    "    print('First Division')\n",
    "elif avg>60:\n",
    "    print('Second Division')\n",
    "elif avg>40:\n",
    "    print('Third Division')\n",
    "else:\n",
    "    print('Fail')"
   ]
  },
  {
   "cell_type": "code",
   "execution_count": 22,
   "id": "1b77193a",
   "metadata": {},
   "outputs": [
    {
     "name": "stdout",
     "output_type": "stream",
     "text": [
      "Evla\n"
     ]
    }
   ],
   "source": [
    "a= 'Everything is ephemeral'\n",
    "print(a[0] +a[1] +a[-1]+a[-2])"
   ]
  },
  {
   "cell_type": "code",
   "execution_count": 28,
   "id": "b490f744",
   "metadata": {},
   "outputs": [
    {
     "name": "stdout",
     "output_type": "stream",
     "text": [
      "7 \n",
      "1 2 \n",
      "4 5 6 \n"
     ]
    }
   ],
   "source": [
    "mat=[[7,8,9],[1,2,3],[4,5,6]]\n",
    "for i in range(3):\n",
    "    for j in range(3):\n",
    "        if(i>=j):\n",
    "            print(mat[i][j],end=' ')\n",
    "    print()"
   ]
  },
  {
   "cell_type": "code",
   "execution_count": null,
   "id": "dcd97741",
   "metadata": {},
   "outputs": [],
   "source": []
  },
  {
   "cell_type": "code",
   "execution_count": null,
   "id": "508fc2db",
   "metadata": {},
   "outputs": [],
   "source": []
  }
 ],
 "metadata": {
  "kernelspec": {
   "display_name": "Python 3",
   "language": "python",
   "name": "python3"
  },
  "language_info": {
   "codemirror_mode": {
    "name": "ipython",
    "version": 3
   },
   "file_extension": ".py",
   "mimetype": "text/x-python",
   "name": "python",
   "nbconvert_exporter": "python",
   "pygments_lexer": "ipython3",
   "version": "3.8.8"
  }
 },
 "nbformat": 4,
 "nbformat_minor": 5
}
