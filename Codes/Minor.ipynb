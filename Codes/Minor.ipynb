{
 "cells": [
  {
   "cell_type": "markdown",
   "id": "c2a0cbda",
   "metadata": {},
   "source": [
    "## Spearman "
   ]
  },
  {
   "cell_type": "code",
   "execution_count": 1,
   "id": "3c298a94",
   "metadata": {},
   "outputs": [
    {
     "name": "stdout",
     "output_type": "stream",
     "text": [
      "SpearmanrResult(correlation=0.9757575757575757, pvalue=1.4675461874042197e-06)\n",
      "(0.9837533157544437, 2.9891292545749884e-07)\n"
     ]
    }
   ],
   "source": [
    "import scipy.stats\n",
    "\n",
    "# Two lists x and y\n",
    "x = [19,17,17,14,16,12,15,12,13]\n",
    "y = [32,28,29,24,26,51,73,85,104,96]\n",
    "print(scipy.stats.spearmanr(x, y))\n",
    "print(scipy.stats.pearsonr(x, y))\n",
    "# This code is contributed by Manish KC\n",
    "# Profile: mkumarchaudhary06\n"
   ]
  },
  {
   "cell_type": "markdown",
   "id": "a6d48c2b",
   "metadata": {},
   "source": [
    "## Pearson "
   ]
  },
  {
   "cell_type": "code",
   "execution_count": 2,
   "id": "998537b2",
   "metadata": {},
   "outputs": [
    {
     "data": {
      "text/plain": [
       "(-0.9203157784562164, 0.009271382267557943)"
      ]
     },
     "execution_count": 2,
     "metadata": {},
     "output_type": "execute_result"
    }
   ],
   "source": [
    "import scipy.stats as st\n",
    "import pandas as pd\n",
    "import numpy as np\n",
    "import matplotlib.pyplot as plt\n",
    "import seaborn as sns\n",
    "%matplotlib inline\n",
    "data=pd.read_excel(r'C:\\Users\\Abhinav Pratap Singh\\Downloads\\Sample - Superstore.xls')\n",
    "st.pearsonr(data['Sales'],data['Profit'])"
   ]
  },
  {
   "cell_type": "markdown",
   "id": "a6ac1bff",
   "metadata": {},
   "source": [
    "## Covariance "
   ]
  },
  {
   "cell_type": "code",
   "execution_count": 12,
   "id": "62140b21",
   "metadata": {},
   "outputs": [
    {
     "name": "stdout",
     "output_type": "stream",
     "text": [
      "10.0\n"
     ]
    }
   ],
   "source": [
    "# Python3 Program to find\n",
    "# covariance of two set.\n",
    "import math\n",
    "\n",
    "# Function to find mean.\n",
    "def mean(arr, n):\n",
    "\t\n",
    "\tsum = 0\n",
    "\tfor i in range(0, n):\n",
    "\t\tsum = sum + arr[i]\n",
    "\t\n",
    "\treturn sum / n\n",
    "\n",
    "# Function to find covariance.\n",
    "def covariance(arr1, arr2, n):\n",
    "\n",
    "\tsum = 0\n",
    "\tfor i in range(0, n):\n",
    "\t\tsum = (sum + (arr1[i] - mean(arr1, n)) *\n",
    "\t\t\t\t\t(arr2[i] - mean(arr2, n)))\n",
    "\t\n",
    "\treturn sum / (n - 1)\n",
    "\n",
    "# Driver method\n",
    "arr1 =[19,17,17,14,16,12,15,12,13]\n",
    "n = len(arr1)\n",
    "\n",
    "arr2 =[32,28,29,24,26,20,24,20,22]\n",
    "m = len(arr2)\n",
    "\n",
    "if (m == n):\n",
    "\tprint (covariance(arr1, arr2, m))\n",
    "\n",
    "# This code is contributed by Gitanjali.\n"
   ]
  },
  {
   "cell_type": "markdown",
   "id": "8918b609",
   "metadata": {},
   "source": [
    "## Covariance Matrix"
   ]
  },
  {
   "cell_type": "code",
   "execution_count": 1,
   "id": "a9d3dd3c",
   "metadata": {},
   "outputs": [
    {
     "name": "stdout",
     "output_type": "stream",
     "text": [
      "Shape of array:\n",
      " (2, 4)\n",
      "Covarinace matrix of x:\n",
      " [[ 14. -11.]\n",
      " [-11.  23.]]\n"
     ]
    }
   ],
   "source": [
    "import numpy as np\n",
    "x = np.array([[4,8,13,7],           #enter x\n",
    "              [11,4,5,14]])     #enter z\n",
    "print(\"Shape of array:\\n\", np.shape(x))\n",
    "print(\"Covarinace matrix of x:\\n\", np.cov(x))"
   ]
  },
  {
   "cell_type": "markdown",
   "id": "571302fc",
   "metadata": {},
   "source": [
    "## Stem and Leaf Graph"
   ]
  },
  {
   "cell_type": "code",
   "execution_count": 5,
   "id": "7436167c",
   "metadata": {},
   "outputs": [
    {
     "data": {
      "text/plain": [
       "(<Figure size 540x162 with 1 Axes>,\n",
       " <matplotlib.axes._axes.Axes at 0x218efc9bca0>)"
      ]
     },
     "execution_count": 5,
     "metadata": {},
     "output_type": "execute_result"
    },
    {
     "data": {
      "image/png": "[encoded data removed]",
      "text/plain": [
       "<Figure size 540x162 with 1 Axes>"
      ]
     },
     "metadata": {
      "needs_background": "light"
     },
     "output_type": "display_data"
    }
   ],
   "source": [
    "import pandas as pd\n",
    "import stemgraphic\n",
    "\n",
    "x = [1565,1852,1644,1766,1888,1912,2044,1812,1790,1679,2008,1852,1967,1954,1733]\n",
    "stemgraphic.stem_graphic(x,scale = 100)"
   ]
  },
  {
   "cell_type": "markdown",
   "id": "70887201",
   "metadata": {},
   "source": [
    "## correlation coefficients"
   ]
  },
  {
   "cell_type": "code",
   "execution_count": 8,
   "id": "6ac1ff1b",
   "metadata": {},
   "outputs": [
    {
     "name": "stdout",
     "output_type": "stream",
     "text": [
      "0.990148\n"
     ]
    }
   ],
   "source": [
    "# Python Program to find correlation coefficient.\n",
    "import math\n",
    "\n",
    "# function that returns correlation coefficient.\n",
    "def correlationCoefficient(X, Y, n) :\n",
    "\tsum_X = 0\n",
    "\tsum_Y = 0\n",
    "\tsum_XY = 0\n",
    "\tsquareSum_X = 0\n",
    "\tsquareSum_Y = 0\n",
    "\t\n",
    "\t\n",
    "\ti = 0\n",
    "\twhile i < n :\n",
    "\t\t# sum of elements of array X.\n",
    "\t\tsum_X = sum_X + X[i]\n",
    "\t\t\n",
    "\t\t# sum of elements of array Y.\n",
    "\t\tsum_Y = sum_Y + Y[i]\n",
    "\t\t\n",
    "\t\t# sum of X[i] * Y[i].\n",
    "\t\tsum_XY = sum_XY + X[i] * Y[i]\n",
    "\t\t\n",
    "\t\t# sum of square of array elements.\n",
    "\t\tsquareSum_X = squareSum_X + X[i] * X[i]\n",
    "\t\tsquareSum_Y = squareSum_Y + Y[i] * Y[i]\n",
    "\t\t\n",
    "\t\ti = i + 1\n",
    "\t\n",
    "\t# use formula for calculating correlation\n",
    "\t# coefficient.\n",
    "\tcorr = (float)(n * sum_XY - sum_X * sum_Y)/(float)(math.sqrt((n * squareSum_X -sum_X * sum_X)* (n * squareSum_Y -sum_Y * sum_Y)))\n",
    "\treturn corr\n",
    "\t\n",
    "# Driver function\n",
    "X = [19,17,17,14,16,12,15,12,13]\n",
    "Y = [32,28,29,24,26,20,24,20,22]\n",
    "\t\n",
    "# Find the size of array.\n",
    "n = len(X)\n",
    "\n",
    "# Function call to correlationCoefficient.\n",
    "print ('{0:.6f}'.format(correlationCoefficient(X, Y, n)))\n",
    "\n",
    "# This code is contributed by Nikita Tiwari.\n"
   ]
  },
  {
   "cell_type": "markdown",
   "id": "b4e87819",
   "metadata": {},
   "source": [
    "## Mahalanobis"
   ]
  },
  {
   "cell_type": "code",
   "execution_count": 7,
   "id": "b59ba14a",
   "metadata": {},
   "outputs": [
    {
     "data": {
      "text/html": [
       "<div>\n",
       "<style scoped>\n",
       "    .dataframe tbody tr th:only-of-type {\n",
       "        vertical-align: middle;\n",
       "    }\n",
       "\n",
       "    .dataframe tbody tr th {\n",
       "        vertical-align: top;\n",
       "    }\n",
       "\n",
       "    .dataframe thead th {\n",
       "        text-align: right;\n",
       "    }\n",
       "</style>\n",
       "<table border=\"1\" class=\"dataframe\">\n",
       "  <thead>\n",
       "    <tr style=\"text-align: right;\">\n",
       "      <th></th>\n",
       "      <th>X</th>\n",
       "      <th>Y</th>\n",
       "      <th>Z</th>\n",
       "      <th>mahala</th>\n",
       "    </tr>\n",
       "  </thead>\n",
       "  <tbody>\n",
       "    <tr>\n",
       "      <th>0</th>\n",
       "      <td>5</td>\n",
       "      <td>50</td>\n",
       "      <td>21</td>\n",
       "      <td>0.868966</td>\n",
       "    </tr>\n",
       "    <tr>\n",
       "      <th>1</th>\n",
       "      <td>8</td>\n",
       "      <td>56</td>\n",
       "      <td>34</td>\n",
       "      <td>1.764545</td>\n",
       "    </tr>\n",
       "    <tr>\n",
       "      <th>2</th>\n",
       "      <td>6</td>\n",
       "      <td>89</td>\n",
       "      <td>12</td>\n",
       "      <td>1.267364</td>\n",
       "    </tr>\n",
       "    <tr>\n",
       "      <th>3</th>\n",
       "      <td>9</td>\n",
       "      <td>90</td>\n",
       "      <td>42</td>\n",
       "      <td>3.325720</td>\n",
       "    </tr>\n",
       "    <tr>\n",
       "      <th>4</th>\n",
       "      <td>3</td>\n",
       "      <td>40</td>\n",
       "      <td>89</td>\n",
       "      <td>7.628523</td>\n",
       "    </tr>\n",
       "    <tr>\n",
       "      <th>5</th>\n",
       "      <td>1</td>\n",
       "      <td>100</td>\n",
       "      <td>10</td>\n",
       "      <td>4.135320</td>\n",
       "    </tr>\n",
       "    <tr>\n",
       "      <th>6</th>\n",
       "      <td>2</td>\n",
       "      <td>300</td>\n",
       "      <td>15</td>\n",
       "      <td>1.112493</td>\n",
       "    </tr>\n",
       "    <tr>\n",
       "      <th>7</th>\n",
       "      <td>4</td>\n",
       "      <td>200</td>\n",
       "      <td>20</td>\n",
       "      <td>0.136488</td>\n",
       "    </tr>\n",
       "    <tr>\n",
       "      <th>8</th>\n",
       "      <td>2</td>\n",
       "      <td>600</td>\n",
       "      <td>10</td>\n",
       "      <td>6.620618</td>\n",
       "    </tr>\n",
       "    <tr>\n",
       "      <th>9</th>\n",
       "      <td>5</td>\n",
       "      <td>100</td>\n",
       "      <td>30</td>\n",
       "      <td>0.139962</td>\n",
       "    </tr>\n",
       "  </tbody>\n",
       "</table>\n",
       "</div>"
      ],
      "text/plain": [
       "   X    Y   Z    mahala\n",
       "0  5   50  21  0.868966\n",
       "1  8   56  34  1.764545\n",
       "2  6   89  12  1.267364\n",
       "3  9   90  42  3.325720\n",
       "4  3   40  89  7.628523\n",
       "5  1  100  10  4.135320\n",
       "6  2  300  15  1.112493\n",
       "7  4  200  20  0.136488\n",
       "8  2  600  10  6.620618\n",
       "9  5  100  30  0.139962"
      ]
     },
     "execution_count": 7,
     "metadata": {},
     "output_type": "execute_result"
    }
   ],
   "source": [
    "import pandas as pd\n",
    "import seaborn as sns\n",
    "import numpy as np\n",
    "import scipy as st\n",
    "%matplotlib inline\n",
    "df=pd.read_excel(r'C:\\Users\\Abhinav Pratap Singh\\Downloads\\Mdata.xlsx', sheet_name='Sheet1')\n",
    "df.head()\n",
    "def mahalanobis(x=None, data=None, cov=None):\n",
    "    x_minus_mu = x - np.mean(data)\n",
    "    if not cov:\n",
    "        cov = np.cov(data.values.T)\n",
    "    inv_covmat = st.linalg.inv(cov)\n",
    "    left_term = np.dot(x_minus_mu, inv_covmat)\n",
    "    mahal = np.dot(left_term, x_minus_mu.T)\n",
    "    return mahal.diagonal()\n",
    "\n",
    "df_x = df[['X', 'Y', 'Z']].head(500)\n",
    "df_x['mahala'] = mahalanobis(x=df_x, data=df[['X', 'Y', 'Z']])\n",
    "df_x.head(10)"
   ]
  },
  {
   "cell_type": "code",
   "execution_count": 9,
   "id": "ee6492a8",
   "metadata": {},
   "outputs": [
    {
     "name": "stdout",
     "output_type": "stream",
     "text": [
      "39.5\n",
      "79.5\n"
     ]
    }
   ],
   "source": [
    "# Import numpy library\n",
    "import numpy as np\n",
    "\n",
    "data = [8,10,12,21,23,32,35,39,40,43,45,53,56,58,60,61,64,67,75,76,78,79,80,83, 84,85,87,88, 90,96] \n",
    "# First quartile (Q1)\n",
    "Q1 = np.percentile(data, 25, interpolation = 'midpoint')\n",
    "\n",
    "# Third quartile (Q3)\n",
    "Q3 = np.percentile(data, 75, interpolation = 'midpoint')\n",
    "\n",
    "# Interquaritle range (IQR)\n",
    "IQR = Q3 - Q1\n",
    "\n",
    "print(Q1)\n",
    "print(Q3)\n"
   ]
  },
  {
   "cell_type": "code",
   "execution_count": 11,
   "id": "27fb9327",
   "metadata": {},
   "outputs": [
    {
     "name": "stdout",
     "output_type": "stream",
     "text": [
      "39.0\n",
      "80.0\n"
     ]
    }
   ],
   "source": [
    "# import the numpy library as np\n",
    "import numpy as np\n",
    "\n",
    "data = [8,10,12,21,23,32,35,39,40,43,45,53,56,58,60,61,64,67,75,76,78,79,80,83, 84,85,87,88, 90,96]\n",
    "# First quartile (Q1)\n",
    "Q1 = np.median(data[:15])\n",
    "\n",
    "# Third quartile (Q3)\n",
    "Q3 = np.median(data[15:])\n",
    "\n",
    "# Interquartile range (IQR)\n",
    "IQR = Q3 - Q1\n",
    "\n",
    "# Quartile Deviation\n",
    "qd = IQR / 2\n",
    "\n",
    "print(Q1)\n",
    "\n",
    "print(Q3)"
   ]
  },
  {
   "cell_type": "code",
   "execution_count": 8,
   "id": "ac47bbf6",
   "metadata": {},
   "outputs": [
    {
     "name": "stdout",
     "output_type": "stream",
     "text": [
      "{'name': 'Heena', 'class': 9}\n"
     ]
    }
   ],
   "source": [
    "student = {\n",
    "\n",
    "      \"name\": \"Heena\",\n",
    "\n",
    "       \"class\": 9,\n",
    "\n",
    "       \"marks\": 75\n",
    "\n",
    "}\n",
    "student.popitem()\n",
    "\n",
    "print(student)\n"
   ]
  },
  {
   "cell_type": "code",
   "execution_count": 12,
   "id": "b9f9f630",
   "metadata": {},
   "outputs": [
    {
     "name": "stdout",
     "output_type": "stream",
     "text": [
      "BBB\n"
     ]
    }
   ],
   "source": [
    "if False:\n",
    "       print (\"AAA\")\n",
    "elif True:\n",
    "       print (\"BBB\")\n",
    "else:\n",
    "       print (\"CCC\")"
   ]
  },
  {
   "cell_type": "code",
   "execution_count": 21,
   "id": "5c12a1d5",
   "metadata": {},
   "outputs": [],
   "source": [
    "for i in range(-3):\n",
    "    print(l1)"
   ]
  },
  {
   "cell_type": "code",
   "execution_count": 19,
   "id": "fcb62d4b",
   "metadata": {},
   "outputs": [],
   "source": [
    "_str=5"
   ]
  },
  {
   "cell_type": "code",
   "execution_count": 23,
   "id": "8ac7c5f3",
   "metadata": {},
   "outputs": [
    {
     "name": "stdout",
     "output_type": "stream",
     "text": [
      "[1, 2, 3, 4] [1, 2, 3, 4]\n"
     ]
    }
   ],
   "source": [
    "D={1:[1,2,3],\n",
    "   2:(4,6,8)}\n",
    "D[1].append(4)\n",
    "print(D[1],end=\" \")\n",
    "L=list(D[2])\n",
    "L.append(12)\n",
    "D[2]=tuple(L)\n",
    "print(D[1])"
   ]
  },
  {
   "cell_type": "code",
   "execution_count": 15,
   "id": "c74ad63b",
   "metadata": {},
   "outputs": [
    {
     "ename": "KeyboardInterrupt",
     "evalue": "Interrupted by user",
     "output_type": "error",
     "traceback": [
      "\u001b[1;31m---------------------------------------------------------------------------\u001b[0m",
      "\u001b[1;31mKeyboardInterrupt\u001b[0m                         Traceback (most recent call last)",
      "\u001b[1;32m<ipython-input-15-bf99966027d4>\u001b[0m in \u001b[0;36m<module>\u001b[1;34m\u001b[0m\n\u001b[1;32m----> 1\u001b[1;33m \u001b[0ms\u001b[0m \u001b[1;33m=\u001b[0m\u001b[0minput\u001b[0m\u001b[1;33m(\u001b[0m\u001b[1;33m)\u001b[0m\u001b[1;33m\u001b[0m\u001b[1;33m\u001b[0m\u001b[0m\n\u001b[0m\u001b[0;32m      2\u001b[0m \u001b[0ml\u001b[0m \u001b[1;33m=\u001b[0m \u001b[0ms\u001b[0m\u001b[1;33m.\u001b[0m\u001b[0msplit\u001b[0m\u001b[1;33m(\u001b[0m\u001b[1;33m)\u001b[0m\u001b[1;33m\u001b[0m\u001b[1;33m\u001b[0m\u001b[0m\n\u001b[0;32m      3\u001b[0m \u001b[1;32mfor\u001b[0m \u001b[0mi\u001b[0m \u001b[1;32min\u001b[0m \u001b[0ml\u001b[0m\u001b[1;33m:\u001b[0m\u001b[1;33m\u001b[0m\u001b[1;33m\u001b[0m\u001b[0m\n\u001b[0;32m      4\u001b[0m     \u001b[1;32mif\u001b[0m \u001b[0mi\u001b[0m\u001b[1;33m.\u001b[0m\u001b[0mislower\u001b[0m\u001b[1;33m(\u001b[0m\u001b[1;33m)\u001b[0m\u001b[1;33m:\u001b[0m\u001b[1;33m\u001b[0m\u001b[1;33m\u001b[0m\u001b[0m\n\u001b[0;32m      5\u001b[0m         \u001b[0mprint\u001b[0m\u001b[1;33m(\u001b[0m\u001b[0mi\u001b[0m\u001b[1;33m.\u001b[0m\u001b[0mupper\u001b[0m\u001b[1;33m(\u001b[0m\u001b[1;33m)\u001b[0m\u001b[1;33m,\u001b[0m\u001b[0mend\u001b[0m \u001b[1;33m=\u001b[0m\u001b[1;34m\"\"\u001b[0m\u001b[1;33m)\u001b[0m\u001b[1;33m\u001b[0m\u001b[1;33m\u001b[0m\u001b[0m\n",
      "\u001b[1;32mC:\\Anaconda\\lib\\site-packages\\ipykernel\\kernelbase.py\u001b[0m in \u001b[0;36mraw_input\u001b[1;34m(self, prompt)\u001b[0m\n\u001b[0;32m    858\u001b[0m                 \u001b[1;34m\"raw_input was called, but this frontend does not support input requests.\"\u001b[0m\u001b[1;33m\u001b[0m\u001b[1;33m\u001b[0m\u001b[0m\n\u001b[0;32m    859\u001b[0m             )\n\u001b[1;32m--> 860\u001b[1;33m         return self._input_request(str(prompt),\n\u001b[0m\u001b[0;32m    861\u001b[0m             \u001b[0mself\u001b[0m\u001b[1;33m.\u001b[0m\u001b[0m_parent_ident\u001b[0m\u001b[1;33m,\u001b[0m\u001b[1;33m\u001b[0m\u001b[1;33m\u001b[0m\u001b[0m\n\u001b[0;32m    862\u001b[0m             \u001b[0mself\u001b[0m\u001b[1;33m.\u001b[0m\u001b[0m_parent_header\u001b[0m\u001b[1;33m,\u001b[0m\u001b[1;33m\u001b[0m\u001b[1;33m\u001b[0m\u001b[0m\n",
      "\u001b[1;32mC:\\Anaconda\\lib\\site-packages\\ipykernel\\kernelbase.py\u001b[0m in \u001b[0;36m_input_request\u001b[1;34m(self, prompt, ident, parent, password)\u001b[0m\n\u001b[0;32m    902\u001b[0m             \u001b[1;32mexcept\u001b[0m \u001b[0mKeyboardInterrupt\u001b[0m\u001b[1;33m:\u001b[0m\u001b[1;33m\u001b[0m\u001b[1;33m\u001b[0m\u001b[0m\n\u001b[0;32m    903\u001b[0m                 \u001b[1;31m# re-raise KeyboardInterrupt, to truncate traceback\u001b[0m\u001b[1;33m\u001b[0m\u001b[1;33m\u001b[0m\u001b[1;33m\u001b[0m\u001b[0m\n\u001b[1;32m--> 904\u001b[1;33m                 \u001b[1;32mraise\u001b[0m \u001b[0mKeyboardInterrupt\u001b[0m\u001b[1;33m(\u001b[0m\u001b[1;34m\"Interrupted by user\"\u001b[0m\u001b[1;33m)\u001b[0m \u001b[1;32mfrom\u001b[0m \u001b[1;32mNone\u001b[0m\u001b[1;33m\u001b[0m\u001b[1;33m\u001b[0m\u001b[0m\n\u001b[0m\u001b[0;32m    905\u001b[0m             \u001b[1;32mexcept\u001b[0m \u001b[0mException\u001b[0m \u001b[1;32mas\u001b[0m \u001b[0me\u001b[0m\u001b[1;33m:\u001b[0m\u001b[1;33m\u001b[0m\u001b[1;33m\u001b[0m\u001b[0m\n\u001b[0;32m    906\u001b[0m                 \u001b[0mself\u001b[0m\u001b[1;33m.\u001b[0m\u001b[0mlog\u001b[0m\u001b[1;33m.\u001b[0m\u001b[0mwarning\u001b[0m\u001b[1;33m(\u001b[0m\u001b[1;34m\"Invalid Message:\"\u001b[0m\u001b[1;33m,\u001b[0m \u001b[0mexc_info\u001b[0m\u001b[1;33m=\u001b[0m\u001b[1;32mTrue\u001b[0m\u001b[1;33m)\u001b[0m\u001b[1;33m\u001b[0m\u001b[1;33m\u001b[0m\u001b[0m\n",
      "\u001b[1;31mKeyboardInterrupt\u001b[0m: Interrupted by user"
     ]
    }
   ],
   "source": [
    "s =input()\n",
    "l = s.split()\n",
    "for i in l:\n",
    "    if i.islower():\n",
    "        print(i.upper(),end =\"\")\n",
    "    elif i.isupper():\n",
    "        print(i.lower(), end =\"\")\n",
    "    else:\n",
    "        print(i,end =\" \")"
   ]
  },
  {
   "cell_type": "code",
   "execution_count": 2,
   "id": "c4879699",
   "metadata": {},
   "outputs": [
    {
     "name": "stdout",
     "output_type": "stream",
     "text": [
      "The solution are (6.615135675995287+0j) and (30.384864324004713+0j)\n"
     ]
    }
   ],
   "source": [
    "# Solve the quadratic equation ax**2 + bx + c = 0\n",
    "\n",
    "# import complex math module\n",
    "import cmath\n",
    "\n",
    "a = 1\n",
    "b = -37\n",
    "c =201\n",
    "\n",
    "# calculate the discriminant\n",
    "d = (b**2) - (4*a*c)\n",
    "\n",
    "# find two solutions\n",
    "sol1 = (-b-cmath.sqrt(d))/(2*a)\n",
    "sol2 = (-b+cmath.sqrt(d))/(2*a)\n",
    "\n",
    "print('The solution are {0} and {1}'.format(sol1,sol2))\n"
   ]
  },
  {
   "cell_type": "code",
   "execution_count": 3,
   "id": "0b43d809",
   "metadata": {},
   "outputs": [
    {
     "name": "stdout",
     "output_type": "stream",
     "text": [
      "<re.Match object; span=(12, 13), match='8'>\n"
     ]
    }
   ],
   "source": [
    "import re \n",
    "txt=\" My dick is 8 inches long \"\n",
    "ans=re.search(\"[0-9]\",txt)\n",
    "print(ans)"
   ]
  },
  {
   "cell_type": "code",
   "execution_count": 6,
   "id": "33e5eb93",
   "metadata": {},
   "outputs": [
    {
     "name": "stdout",
     "output_type": "stream",
     "text": [
      "['8']\n"
     ]
    }
   ],
   "source": [
    "import re \n",
    "txt=\" My dick is 8 inches long \"\n",
    "ans=re.findall(\"[0-9]\",txt)\n",
    "print(ans)"
   ]
  },
  {
   "cell_type": "code",
   "execution_count": null,
   "id": "4f71b246",
   "metadata": {},
   "outputs": [],
   "source": []
  }
 ],
 "metadata": {
  "kernelspec": {
   "display_name": "Python 3",
   "language": "python",
   "name": "python3"
  },
  "language_info": {
   "codemirror_mode": {
    "name": "ipython",
    "version": 3
   },
   "file_extension": ".py",
   "mimetype": "text/x-python",
   "name": "python",
   "nbconvert_exporter": "python",
   "pygments_lexer": "ipython3",
   "version": "3.8.8"
  }
 },
 "nbformat": 4,
 "nbformat_minor": 5
}
