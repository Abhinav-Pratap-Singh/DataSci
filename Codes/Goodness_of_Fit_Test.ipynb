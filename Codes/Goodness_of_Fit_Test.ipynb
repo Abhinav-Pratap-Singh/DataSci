{
 "cells": [
  {
   "cell_type": "markdown",
   "metadata": {
    "colab_type": "text",
    "id": "view-in-github"
   },
   "source": [
    "<a href=\"https://colab.research.google.com/github/RajkumarGalaxy/StructuredData/blob/master/Goodness_of_Fit_Test.ipynb\" target=\"_parent\"><img src=\"https://colab.research.google.com/assets/colab-badge.svg\" alt=\"Open In Colab\"/></a>"
   ]
  },
  {
   "cell_type": "markdown",
   "metadata": {
    "id": "AgYGm7Kzboou"
   },
   "source": [
    "# Goodness-of-Fit Test\n",
    "\n",
    "\n",
    "One of the traditional statistical approaches, the Goodness-of-Fit test gives a solution to validate our theoretical assumptions about data distributions. \n",
    "This notebook discusses the Goodness-of-Fit test with some common data distributions using Python code."
   ]
  },
  {
   "cell_type": "code",
   "execution_count": 1,
   "metadata": {
    "id": "wU_5hix3bLmw"
   },
   "outputs": [],
   "source": [
    "# create the environment\n",
    "\n",
    "import numpy as np\n",
    "import pandas as pd\n",
    "import matplotlib.pyplot as plt\n",
    "import seaborn as sns\n",
    "from scipy import stats "
   ]
  },
  {
   "cell_type": "markdown",
   "metadata": {
    "id": "6WIN0SrQ96LF"
   },
   "source": [
    "# Uniform Distribution"
   ]
  },
  {
   "cell_type": "code",
   "execution_count": 2,
   "metadata": {
    "colab": {
     "base_uri": "https://localhost:8080/",
     "height": 235
    },
    "id": "7uQyHdYwcQn9",
    "outputId": "6722f05d-b238-4c2d-aced-a6b74f217359"
   },
   "outputs": [
    {
     "data": {
      "text/html": [
       "<div>\n",
       "<style scoped>\n",
       "    .dataframe tbody tr th:only-of-type {\n",
       "        vertical-align: middle;\n",
       "    }\n",
       "\n",
       "    .dataframe tbody tr th {\n",
       "        vertical-align: top;\n",
       "    }\n",
       "\n",
       "    .dataframe thead th {\n",
       "        text-align: right;\n",
       "    }\n",
       "</style>\n",
       "<table border=\"1\" class=\"dataframe\">\n",
       "  <thead>\n",
       "    <tr style=\"text-align: right;\">\n",
       "      <th></th>\n",
       "      <th>face</th>\n",
       "      <th>observed</th>\n",
       "    </tr>\n",
       "  </thead>\n",
       "  <tbody>\n",
       "    <tr>\n",
       "      <th>0</th>\n",
       "      <td>1</td>\n",
       "      <td>17</td>\n",
       "    </tr>\n",
       "    <tr>\n",
       "      <th>1</th>\n",
       "      <td>2</td>\n",
       "      <td>11</td>\n",
       "    </tr>\n",
       "    <tr>\n",
       "      <th>2</th>\n",
       "      <td>3</td>\n",
       "      <td>18</td>\n",
       "    </tr>\n",
       "    <tr>\n",
       "      <th>3</th>\n",
       "      <td>4</td>\n",
       "      <td>12</td>\n",
       "    </tr>\n",
       "    <tr>\n",
       "      <th>4</th>\n",
       "      <td>5</td>\n",
       "      <td>15</td>\n",
       "    </tr>\n",
       "    <tr>\n",
       "      <th>5</th>\n",
       "      <td>6</td>\n",
       "      <td>17</td>\n",
       "    </tr>\n",
       "  </tbody>\n",
       "</table>\n",
       "</div>"
      ],
      "text/plain": [
       "   face  observed\n",
       "0     1        17\n",
       "1     2        11\n",
       "2     3        18\n",
       "3     4        12\n",
       "4     5        15\n",
       "5     6        17"
      ]
     },
     "execution_count": 2,
     "metadata": {},
     "output_type": "execute_result"
    }
   ],
   "source": [
    "path = 'https://raw.githubusercontent.com/RajkumarGalaxy/dataset/master/Tabular/uniform_dice.csv'\n",
    "dice = pd.read_csv(path)\n",
    "dice"
   ]
  },
  {
   "cell_type": "code",
   "execution_count": 3,
   "metadata": {
    "colab": {
     "base_uri": "https://localhost:8080/"
    },
    "id": "zg-8M86u99vf",
    "outputId": "23027d09-d34f-423e-e93d-98490edde477"
   },
   "outputs": [
    {
     "name": "stdout",
     "output_type": "stream",
     "text": [
      "Total Frequency :  90\n",
      "Expected Frequency :  15.0\n"
     ]
    }
   ],
   "source": [
    "# Total frequency\n",
    "total_freq = dice['observed'].sum()\n",
    "print('Total Frequency : ', total_freq)\n",
    "\n",
    "# Expected frequency\n",
    "expected_freq = total_freq / 6\n",
    "print('Expected Frequency : ', expected_freq)"
   ]
  },
  {
   "cell_type": "code",
   "execution_count": 4,
   "metadata": {
    "colab": {
     "base_uri": "https://localhost:8080/",
     "height": 235
    },
    "id": "-5m0Bit-_otG",
    "outputId": "32a2ac7e-6f1d-4d53-ea62-1e610d85d43c"
   },
   "outputs": [
    {
     "data": {
      "text/html": [
       "<div>\n",
       "<style scoped>\n",
       "    .dataframe tbody tr th:only-of-type {\n",
       "        vertical-align: middle;\n",
       "    }\n",
       "\n",
       "    .dataframe tbody tr th {\n",
       "        vertical-align: top;\n",
       "    }\n",
       "\n",
       "    .dataframe thead th {\n",
       "        text-align: right;\n",
       "    }\n",
       "</style>\n",
       "<table border=\"1\" class=\"dataframe\">\n",
       "  <thead>\n",
       "    <tr style=\"text-align: right;\">\n",
       "      <th></th>\n",
       "      <th>face</th>\n",
       "      <th>observed</th>\n",
       "      <th>expected</th>\n",
       "    </tr>\n",
       "  </thead>\n",
       "  <tbody>\n",
       "    <tr>\n",
       "      <th>0</th>\n",
       "      <td>1</td>\n",
       "      <td>17</td>\n",
       "      <td>15.0</td>\n",
       "    </tr>\n",
       "    <tr>\n",
       "      <th>1</th>\n",
       "      <td>2</td>\n",
       "      <td>11</td>\n",
       "      <td>15.0</td>\n",
       "    </tr>\n",
       "    <tr>\n",
       "      <th>2</th>\n",
       "      <td>3</td>\n",
       "      <td>18</td>\n",
       "      <td>15.0</td>\n",
       "    </tr>\n",
       "    <tr>\n",
       "      <th>3</th>\n",
       "      <td>4</td>\n",
       "      <td>12</td>\n",
       "      <td>15.0</td>\n",
       "    </tr>\n",
       "    <tr>\n",
       "      <th>4</th>\n",
       "      <td>5</td>\n",
       "      <td>15</td>\n",
       "      <td>15.0</td>\n",
       "    </tr>\n",
       "    <tr>\n",
       "      <th>5</th>\n",
       "      <td>6</td>\n",
       "      <td>17</td>\n",
       "      <td>15.0</td>\n",
       "    </tr>\n",
       "  </tbody>\n",
       "</table>\n",
       "</div>"
      ],
      "text/plain": [
       "   face  observed  expected\n",
       "0     1        17      15.0\n",
       "1     2        11      15.0\n",
       "2     3        18      15.0\n",
       "3     4        12      15.0\n",
       "4     5        15      15.0\n",
       "5     6        17      15.0"
      ]
     },
     "execution_count": 4,
     "metadata": {},
     "output_type": "execute_result"
    }
   ],
   "source": [
    "dice['expected'] = expected_freq\n",
    "dice"
   ]
  },
  {
   "cell_type": "code",
   "execution_count": 5,
   "metadata": {
    "colab": {
     "base_uri": "https://localhost:8080/",
     "height": 392
    },
    "id": "H1MsIAR1ECSE",
    "outputId": "3b1f2ecc-3ba0-4843-e65e-0a00f140d4d6"
   },
   "outputs": [
    {
     "data": {
      "image/png": "[encoded data removed]",
      "text/plain": [
       "<Figure size 432x432 with 2 Axes>"
      ]
     },
     "metadata": {},
     "output_type": "display_data"
    }
   ],
   "source": [
    "sns.set_style('darkgrid')\n",
    "plt.figure(figsize = (6,6))\n",
    "\n",
    "# plot observed frequency\n",
    "plt.subplot(211)\n",
    "plt.bar(dice['face'], dice['observed'])\n",
    "plt.ylabel('Observed Frequency')\n",
    "plt.ylim([0,20])\n",
    "\n",
    "# plot expected frequency\n",
    "plt.subplot(212)\n",
    "plt.bar(dice['face'], dice['expected'])\n",
    "plt.ylabel('Expected Frequency')\n",
    "plt.xlabel('Face of dice')\n",
    "plt.ylim([0,20])\n",
    "plt.show()"
   ]
  },
  {
   "cell_type": "code",
   "execution_count": 6,
   "metadata": {
    "id": "JvcyBjo_O34R"
   },
   "outputs": [],
   "source": [
    "# a helper function to calculate the Chi-Square value\n",
    "\n",
    "def Chi_Square(obs_freq, exp_freq):\n",
    "  count = len(obs_freq)\n",
    "  chi_sq = 0\n",
    "\n",
    "  for i in range(count):\n",
    "    x = (obs_freq[i] - exp_freq[i]) ** 2\n",
    "    x = x / exp_freq[i]\n",
    "    chi_sq += x\n",
    "\n",
    "  return chi_sq\n"
   ]
  },
  {
   "cell_type": "code",
   "execution_count": 7,
   "metadata": {
    "colab": {
     "base_uri": "https://localhost:8080/"
    },
    "id": "wW1IW7TfQyWY",
    "outputId": "9a37387e-df0f-49ee-a24d-2006a4dc43cc"
   },
   "outputs": [
    {
     "data": {
      "text/plain": [
       "2.8"
      ]
     },
     "execution_count": 7,
     "metadata": {},
     "output_type": "execute_result"
    }
   ],
   "source": [
    "# calculate using the helper function\n",
    "Chi_Square(dice['observed'], dice['expected'])"
   ]
  },
  {
   "cell_type": "code",
   "execution_count": 8,
   "metadata": {
    "colab": {
     "base_uri": "https://localhost:8080/"
    },
    "id": "eAYtIP6gRNaC",
    "outputId": "3fb079d5-f4d4-41be-cc5f-e2ad723d8bad"
   },
   "outputs": [
    {
     "data": {
      "text/plain": [
       "Power_divergenceResult(statistic=2.8, pvalue=0.7307864865887586)"
      ]
     },
     "execution_count": 8,
     "metadata": {},
     "output_type": "execute_result"
    }
   ],
   "source": [
    "# calculate using the stats module of SciPy library\n",
    "stats.chisquare(dice['observed'], dice['expected'])"
   ]
  },
  {
   "cell_type": "code",
   "execution_count": 9,
   "metadata": {
    "colab": {
     "base_uri": "https://localhost:8080/"
    },
    "id": "W-nF-OAeULAE",
    "outputId": "596d00c9-f194-41d8-ebda-2a2ccd0f314d"
   },
   "outputs": [
    {
     "data": {
      "text/plain": [
       "11.070497693516351"
      ]
     },
     "execution_count": 9,
     "metadata": {},
     "output_type": "execute_result"
    }
   ],
   "source": [
    "# critical Chi-Square - percent point function\n",
    "DOF = len(dice['observed']) - 0 - 1\n",
    "stats.chi2.ppf(0.95, DOF)"
   ]
  },
  {
   "cell_type": "markdown",
   "metadata": {
    "id": "3vI_U0J5cffQ"
   },
   "source": [
    "We can say that the data follows uniform distribution."
   ]
  },
  {
   "cell_type": "markdown",
   "metadata": {
    "id": "y5KL45UIcoc1"
   },
   "source": [
    "# Normal Distribution"
   ]
  },
  {
   "cell_type": "code",
   "execution_count": 10,
   "metadata": {
    "colab": {
     "base_uri": "https://localhost:8080/",
     "height": 359
    },
    "id": "pOOeDSAcjbJo",
    "outputId": "9d12ed75-6d6b-4179-c175-ff31b9996eb4"
   },
   "outputs": [
    {
     "data": {
      "text/html": [
       "<div>\n",
       "<style scoped>\n",
       "    .dataframe tbody tr th:only-of-type {\n",
       "        vertical-align: middle;\n",
       "    }\n",
       "\n",
       "    .dataframe tbody tr th {\n",
       "        vertical-align: top;\n",
       "    }\n",
       "\n",
       "    .dataframe thead th {\n",
       "        text-align: right;\n",
       "    }\n",
       "</style>\n",
       "<table border=\"1\" class=\"dataframe\">\n",
       "  <thead>\n",
       "    <tr style=\"text-align: right;\">\n",
       "      <th></th>\n",
       "      <th>bulb</th>\n",
       "      <th>life</th>\n",
       "    </tr>\n",
       "  </thead>\n",
       "  <tbody>\n",
       "    <tr>\n",
       "      <th>0</th>\n",
       "      <td>1</td>\n",
       "      <td>31</td>\n",
       "    </tr>\n",
       "    <tr>\n",
       "      <th>1</th>\n",
       "      <td>2</td>\n",
       "      <td>33</td>\n",
       "    </tr>\n",
       "    <tr>\n",
       "      <th>2</th>\n",
       "      <td>3</td>\n",
       "      <td>34</td>\n",
       "    </tr>\n",
       "    <tr>\n",
       "      <th>3</th>\n",
       "      <td>4</td>\n",
       "      <td>51</td>\n",
       "    </tr>\n",
       "    <tr>\n",
       "      <th>4</th>\n",
       "      <td>5</td>\n",
       "      <td>24</td>\n",
       "    </tr>\n",
       "    <tr>\n",
       "      <th>5</th>\n",
       "      <td>6</td>\n",
       "      <td>41</td>\n",
       "    </tr>\n",
       "    <tr>\n",
       "      <th>6</th>\n",
       "      <td>7</td>\n",
       "      <td>58</td>\n",
       "    </tr>\n",
       "    <tr>\n",
       "      <th>7</th>\n",
       "      <td>8</td>\n",
       "      <td>53</td>\n",
       "    </tr>\n",
       "    <tr>\n",
       "      <th>8</th>\n",
       "      <td>9</td>\n",
       "      <td>27</td>\n",
       "    </tr>\n",
       "    <tr>\n",
       "      <th>9</th>\n",
       "      <td>10</td>\n",
       "      <td>52</td>\n",
       "    </tr>\n",
       "  </tbody>\n",
       "</table>\n",
       "</div>"
      ],
      "text/plain": [
       "   bulb  life\n",
       "0     1    31\n",
       "1     2    33\n",
       "2     3    34\n",
       "3     4    51\n",
       "4     5    24\n",
       "5     6    41\n",
       "6     7    58\n",
       "7     8    53\n",
       "8     9    27\n",
       "9    10    52"
      ]
     },
     "execution_count": 10,
     "metadata": {},
     "output_type": "execute_result"
    }
   ],
   "source": [
    "path = 'https://raw.githubusercontent.com/RajkumarGalaxy/dataset/master/Tabular/bulb_life.csv'\n",
    "data = pd.read_csv(path)\n",
    "data.head(10)"
   ]
  },
  {
   "cell_type": "code",
   "execution_count": 11,
   "metadata": {
    "colab": {
     "base_uri": "https://localhost:8080/",
     "height": 279
    },
    "id": "RQV9d0pAxFMh",
    "outputId": "7f21ac73-2b43-4619-f134-b8d7c9ca29f7"
   },
   "outputs": [
    {
     "data": {
      "image/png": "[encoded data removed]",
      "text/plain": [
       "<Figure size 432x288 with 1 Axes>"
      ]
     },
     "metadata": {},
     "output_type": "display_data"
    }
   ],
   "source": [
    "sns.histplot(data=data, x='life', bins=8)\n",
    "plt.show()"
   ]
  },
  {
   "cell_type": "code",
   "execution_count": 12,
   "metadata": {
    "colab": {
     "base_uri": "https://localhost:8080/"
    },
    "id": "NogQs3ARyXtA",
    "outputId": "3274fc19-7a3d-461e-b9a5-5e26fc039516"
   },
   "outputs": [
    {
     "data": {
      "text/plain": [
       "[26.056476255663902,\n",
       " 31.762378497044118,\n",
       " 36.02928282685201,\n",
       " 39.85,\n",
       " 43.67071717314799,\n",
       " 47.937621502955885,\n",
       " 53.6435237443361,\n",
       " inf]"
      ]
     },
     "execution_count": 12,
     "metadata": {},
     "output_type": "execute_result"
    }
   ],
   "source": [
    "# mean and standard deviation of given data\n",
    "mean = np.mean(data['life'])\n",
    "std = np.std(data['life'])\n",
    "\n",
    "bins = 8\n",
    "interval = []\n",
    "for i in range(1,9):\n",
    "  val = stats.norm.ppf(i/bins, mean, std)\n",
    "  interval.append(val)\n",
    "interval"
   ]
  },
  {
   "cell_type": "code",
   "execution_count": 13,
   "metadata": {
    "colab": {
     "base_uri": "https://localhost:8080/"
    },
    "id": "oko04QRj-F_q",
    "outputId": "41219567-5ddd-4227-96f2-bcf9649281fb"
   },
   "outputs": [
    {
     "data": {
      "text/plain": [
       "[-inf,\n",
       " 26.056476255663902,\n",
       " 31.762378497044118,\n",
       " 36.02928282685201,\n",
       " 39.85,\n",
       " 43.67071717314799,\n",
       " 47.937621502955885,\n",
       " 53.6435237443361,\n",
       " inf]"
      ]
     },
     "execution_count": 13,
     "metadata": {},
     "output_type": "execute_result"
    }
   ],
   "source": [
    "interval.insert(0, -np.inf)\n",
    "interval"
   ]
  },
  {
   "cell_type": "code",
   "execution_count": 14,
   "metadata": {
    "colab": {
     "base_uri": "https://localhost:8080/",
     "height": 297
    },
    "id": "KHoctZvz8PID",
    "outputId": "29638089-36c9-41e4-9093-573338d4192f"
   },
   "outputs": [
    {
     "data": {
      "text/html": [
       "<div>\n",
       "<style scoped>\n",
       "    .dataframe tbody tr th:only-of-type {\n",
       "        vertical-align: middle;\n",
       "    }\n",
       "\n",
       "    .dataframe tbody tr th {\n",
       "        vertical-align: top;\n",
       "    }\n",
       "\n",
       "    .dataframe thead th {\n",
       "        text-align: right;\n",
       "    }\n",
       "</style>\n",
       "<table border=\"1\" class=\"dataframe\">\n",
       "  <thead>\n",
       "    <tr style=\"text-align: right;\">\n",
       "      <th></th>\n",
       "      <th>lower_limit</th>\n",
       "      <th>upper_limit</th>\n",
       "    </tr>\n",
       "  </thead>\n",
       "  <tbody>\n",
       "    <tr>\n",
       "      <th>0</th>\n",
       "      <td>-inf</td>\n",
       "      <td>26.056476</td>\n",
       "    </tr>\n",
       "    <tr>\n",
       "      <th>1</th>\n",
       "      <td>26.056476</td>\n",
       "      <td>31.762378</td>\n",
       "    </tr>\n",
       "    <tr>\n",
       "      <th>2</th>\n",
       "      <td>31.762378</td>\n",
       "      <td>36.029283</td>\n",
       "    </tr>\n",
       "    <tr>\n",
       "      <th>3</th>\n",
       "      <td>36.029283</td>\n",
       "      <td>39.850000</td>\n",
       "    </tr>\n",
       "    <tr>\n",
       "      <th>4</th>\n",
       "      <td>39.850000</td>\n",
       "      <td>43.670717</td>\n",
       "    </tr>\n",
       "    <tr>\n",
       "      <th>5</th>\n",
       "      <td>43.670717</td>\n",
       "      <td>47.937622</td>\n",
       "    </tr>\n",
       "    <tr>\n",
       "      <th>6</th>\n",
       "      <td>47.937622</td>\n",
       "      <td>53.643524</td>\n",
       "    </tr>\n",
       "    <tr>\n",
       "      <th>7</th>\n",
       "      <td>53.643524</td>\n",
       "      <td>inf</td>\n",
       "    </tr>\n",
       "  </tbody>\n",
       "</table>\n",
       "</div>"
      ],
      "text/plain": [
       "   lower_limit  upper_limit\n",
       "0         -inf    26.056476\n",
       "1    26.056476    31.762378\n",
       "2    31.762378    36.029283\n",
       "3    36.029283    39.850000\n",
       "4    39.850000    43.670717\n",
       "5    43.670717    47.937622\n",
       "6    47.937622    53.643524\n",
       "7    53.643524          inf"
      ]
     },
     "execution_count": 14,
     "metadata": {},
     "output_type": "execute_result"
    }
   ],
   "source": [
    "df = pd.DataFrame({'lower_limit':interval[:-1], 'upper_limit':interval[1:]})\n",
    "df"
   ]
  },
  {
   "cell_type": "code",
   "execution_count": 15,
   "metadata": {
    "colab": {
     "base_uri": "https://localhost:8080/",
     "height": 297
    },
    "id": "xB2y7mL1AGMF",
    "outputId": "65624d8b-9510-4243-d2b4-0be450209066"
   },
   "outputs": [
    {
     "data": {
      "text/html": [
       "<div>\n",
       "<style scoped>\n",
       "    .dataframe tbody tr th:only-of-type {\n",
       "        vertical-align: middle;\n",
       "    }\n",
       "\n",
       "    .dataframe tbody tr th {\n",
       "        vertical-align: top;\n",
       "    }\n",
       "\n",
       "    .dataframe thead th {\n",
       "        text-align: right;\n",
       "    }\n",
       "</style>\n",
       "<table border=\"1\" class=\"dataframe\">\n",
       "  <thead>\n",
       "    <tr style=\"text-align: right;\">\n",
       "      <th></th>\n",
       "      <th>lower_limit</th>\n",
       "      <th>upper_limit</th>\n",
       "      <th>obs_freq</th>\n",
       "      <th>exp_freq</th>\n",
       "    </tr>\n",
       "  </thead>\n",
       "  <tbody>\n",
       "    <tr>\n",
       "      <th>0</th>\n",
       "      <td>-inf</td>\n",
       "      <td>26.056476</td>\n",
       "      <td>4</td>\n",
       "      <td>5</td>\n",
       "    </tr>\n",
       "    <tr>\n",
       "      <th>1</th>\n",
       "      <td>26.056476</td>\n",
       "      <td>31.762378</td>\n",
       "      <td>8</td>\n",
       "      <td>5</td>\n",
       "    </tr>\n",
       "    <tr>\n",
       "      <th>2</th>\n",
       "      <td>31.762378</td>\n",
       "      <td>36.029283</td>\n",
       "      <td>6</td>\n",
       "      <td>5</td>\n",
       "    </tr>\n",
       "    <tr>\n",
       "      <th>3</th>\n",
       "      <td>36.029283</td>\n",
       "      <td>39.850000</td>\n",
       "      <td>2</td>\n",
       "      <td>5</td>\n",
       "    </tr>\n",
       "    <tr>\n",
       "      <th>4</th>\n",
       "      <td>39.850000</td>\n",
       "      <td>43.670717</td>\n",
       "      <td>6</td>\n",
       "      <td>5</td>\n",
       "    </tr>\n",
       "    <tr>\n",
       "      <th>5</th>\n",
       "      <td>43.670717</td>\n",
       "      <td>47.937622</td>\n",
       "      <td>2</td>\n",
       "      <td>5</td>\n",
       "    </tr>\n",
       "    <tr>\n",
       "      <th>6</th>\n",
       "      <td>47.937622</td>\n",
       "      <td>53.643524</td>\n",
       "      <td>6</td>\n",
       "      <td>5</td>\n",
       "    </tr>\n",
       "    <tr>\n",
       "      <th>7</th>\n",
       "      <td>53.643524</td>\n",
       "      <td>inf</td>\n",
       "      <td>6</td>\n",
       "      <td>5</td>\n",
       "    </tr>\n",
       "  </tbody>\n",
       "</table>\n",
       "</div>"
      ],
      "text/plain": [
       "   lower_limit  upper_limit  obs_freq  exp_freq\n",
       "0         -inf    26.056476         4         5\n",
       "1    26.056476    31.762378         8         5\n",
       "2    31.762378    36.029283         6         5\n",
       "3    36.029283    39.850000         2         5\n",
       "4    39.850000    43.670717         6         5\n",
       "5    43.670717    47.937622         2         5\n",
       "6    47.937622    53.643524         6         5\n",
       "7    53.643524          inf         6         5"
      ]
     },
     "execution_count": 15,
     "metadata": {},
     "output_type": "execute_result"
    }
   ],
   "source": [
    "life_values = list(sorted(data['life']))\n",
    "df['obs_freq'] = df.apply(lambda x:sum([i>x['lower_limit'] and i<=x['upper_limit'] for i in life_values]), axis=1)\n",
    "df['exp_freq'] = 5\n",
    "df"
   ]
  },
  {
   "cell_type": "code",
   "execution_count": 24,
   "metadata": {
    "colab": {
     "base_uri": "https://localhost:8080/"
    },
    "id": "qvf7W1QrEAu2",
    "outputId": "d487b836-2aa4-4827-c705-e26318c43365"
   },
   "outputs": [],
   "source": [
    "chiVal,pValue=stats.chisquare(df['obs_freq'], df['exp_freq'])"
   ]
  },
  {
   "cell_type": "code",
   "execution_count": 25,
   "metadata": {
    "colab": {
     "base_uri": "https://localhost:8080/"
    },
    "id": "HnHQkh0BEjXq",
    "outputId": "0fefaf8b-6890-4def-f8ad-e41618d6877d"
   },
   "outputs": [
    {
     "name": "stdout",
     "output_type": "stream",
     "text": [
      "11.070497693516351\n"
     ]
    }
   ],
   "source": [
    "p = 2    # number of parameters\n",
    "DOF = len(df['obs_freq']) - p -1\n",
    "critical=stats.chi2.ppf(0.95, DOF)\n",
    "print(critical)"
   ]
  },
  {
   "cell_type": "code",
   "execution_count": 26,
   "metadata": {},
   "outputs": [
    {
     "name": "stdout",
     "output_type": "stream",
     "text": [
      "Do not Reject Ho\n"
     ]
    }
   ],
   "source": [
    "if chiVal>=critical:\n",
    "    print(\"Reject H0\")\n",
    "else :\n",
    "    print(\"Do not Reject Ho\")\n"
   ]
  },
  {
   "cell_type": "markdown",
   "metadata": {
    "id": "fCsFdBVrHUke"
   },
   "source": [
    "### It is observed that the calculated Chi-Square value is less than the critical value.\n",
    "### Hence, the null hypothesis can not be rejected.\n",
    "### In other words, the life of bulbs are normally distributed.\n"
   ]
  },
  {
   "cell_type": "code",
   "execution_count": null,
   "metadata": {},
   "outputs": [],
   "source": []
  }
 ],
 "metadata": {
  "colab": {
   "authorship_tag": "ABX9TyNyu5RN6XkSJqx3Jjpa0pNo",
   "collapsed_sections": [],
   "include_colab_link": true,
   "name": "Goodness-of-Fit Test.ipynb",
   "provenance": []
  },
  "kernelspec": {
   "display_name": "Python 3",
   "language": "python",
   "name": "python3"
  },
  "language_info": {
   "codemirror_mode": {
    "name": "ipython",
    "version": 3
   },
   "file_extension": ".py",
   "mimetype": "text/x-python",
   "name": "python",
   "nbconvert_exporter": "python",
   "pygments_lexer": "ipython3",
   "version": "3.8.8"
  }
 },
 "nbformat": 4,
 "nbformat_minor": 1
}
