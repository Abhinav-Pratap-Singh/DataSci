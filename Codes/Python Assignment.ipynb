{
 "cells": [
  {
   "cell_type": "code",
   "execution_count": 1,
   "id": "6ab7b811",
   "metadata": {},
   "outputs": [
    {
     "name": "stdout",
     "output_type": "stream",
     "text": [
      "Name : Abhinav Pratap Singh\n",
      "School : Saint John's Academy\n",
      "4950\n"
     ]
    }
   ],
   "source": [
    "print(\"Name : Abhinav Pratap Singh\");\n",
    "print(\"School : Saint John's Academy\");\n",
    "result=0;\n",
    "for i in range (100):\n",
    "    result+=i;\n",
    "print(result);"
   ]
  },
  {
   "cell_type": "code",
   "execution_count": 2,
   "id": "d6b223d1",
   "metadata": {},
   "outputs": [
    {
     "name": "stdout",
     "output_type": "stream",
     "text": [
      "['b', 'c', 'd', 'e']\n",
      "['a', 'b', 'c', 'd', 'e']\n",
      "['f', 'h']\n",
      "['a', 'b', 'c', 'd', 'e', 'f', 'h']\n",
      "['h', 'f', 'e', 'd', 'c', 'b', 'a']\n",
      "['a', 'c', 'e', 'h']\n"
     ]
    }
   ],
   "source": [
    "list1 = ['a','b','c','d','e','f','h']\n",
    "\n",
    "print(list1[1:5])\n",
    "\n",
    "print(list1[:5])\n",
    "\n",
    "print(list1[5:])\n",
    "\n",
    "print(list1[:])\n",
    "\n",
    "print(list1[::-1])\n",
    "\n",
    "\n",
    "print(list1[::2])"
   ]
  },
  {
   "cell_type": "code",
   "execution_count": 3,
   "id": "6a57f12d",
   "metadata": {},
   "outputs": [
    {
     "name": "stdout",
     "output_type": "stream",
     "text": [
      "Multiplication Table of : 1\n",
      "1 x 1 = 1\n",
      "1 x 2 = 2\n",
      "1 x 3 = 3\n",
      "1 x 4 = 4\n",
      "1 x 5 = 5\n",
      "1 x 6 = 6\n",
      "1 x 7 = 7\n",
      "1 x 8 = 8\n",
      "1 x 9 = 9\n",
      "1 x 10 = 10\n",
      "Multiplication Table of : 2\n",
      "2 x 1 = 2\n",
      "2 x 2 = 4\n",
      "2 x 3 = 6\n",
      "2 x 4 = 8\n",
      "2 x 5 = 10\n",
      "2 x 6 = 12\n",
      "2 x 7 = 14\n",
      "2 x 8 = 16\n",
      "2 x 9 = 18\n",
      "2 x 10 = 20\n",
      "Multiplication Table of : 3\n",
      "3 x 1 = 3\n",
      "3 x 2 = 6\n",
      "3 x 3 = 9\n",
      "3 x 4 = 12\n",
      "3 x 5 = 15\n",
      "3 x 6 = 18\n",
      "3 x 7 = 21\n",
      "3 x 8 = 24\n",
      "3 x 9 = 27\n",
      "3 x 10 = 30\n",
      "Multiplication Table of : 4\n",
      "4 x 1 = 4\n",
      "4 x 2 = 8\n",
      "4 x 3 = 12\n",
      "4 x 4 = 16\n",
      "4 x 5 = 20\n",
      "4 x 6 = 24\n",
      "4 x 7 = 28\n",
      "4 x 8 = 32\n",
      "4 x 9 = 36\n",
      "4 x 10 = 40\n",
      "Multiplication Table of : 5\n",
      "5 x 1 = 5\n",
      "5 x 2 = 10\n",
      "5 x 3 = 15\n",
      "5 x 4 = 20\n",
      "5 x 5 = 25\n",
      "5 x 6 = 30\n",
      "5 x 7 = 35\n",
      "5 x 8 = 40\n",
      "5 x 9 = 45\n",
      "5 x 10 = 50\n",
      "Multiplication Table of : 6\n",
      "6 x 1 = 6\n",
      "6 x 2 = 12\n",
      "6 x 3 = 18\n",
      "6 x 4 = 24\n",
      "6 x 5 = 30\n",
      "6 x 6 = 36\n",
      "6 x 7 = 42\n",
      "6 x 8 = 48\n",
      "6 x 9 = 54\n",
      "6 x 10 = 60\n",
      "Multiplication Table of : 7\n",
      "7 x 1 = 7\n",
      "7 x 2 = 14\n",
      "7 x 3 = 21\n",
      "7 x 4 = 28\n",
      "7 x 5 = 35\n",
      "7 x 6 = 42\n",
      "7 x 7 = 49\n",
      "7 x 8 = 56\n",
      "7 x 9 = 63\n",
      "7 x 10 = 70\n",
      "Multiplication Table of : 8\n",
      "8 x 1 = 8\n",
      "8 x 2 = 16\n",
      "8 x 3 = 24\n",
      "8 x 4 = 32\n",
      "8 x 5 = 40\n",
      "8 x 6 = 48\n",
      "8 x 7 = 56\n",
      "8 x 8 = 64\n",
      "8 x 9 = 72\n",
      "8 x 10 = 80\n",
      "Multiplication Table of : 9\n",
      "9 x 1 = 9\n",
      "9 x 2 = 18\n",
      "9 x 3 = 27\n",
      "9 x 4 = 36\n",
      "9 x 5 = 45\n",
      "9 x 6 = 54\n",
      "9 x 7 = 63\n",
      "9 x 8 = 72\n",
      "9 x 9 = 81\n",
      "9 x 10 = 90\n",
      "Multiplication Table of : 10\n",
      "10 x 1 = 10\n",
      "10 x 2 = 20\n",
      "10 x 3 = 30\n",
      "10 x 4 = 40\n",
      "10 x 5 = 50\n",
      "10 x 6 = 60\n",
      "10 x 7 = 70\n",
      "10 x 8 = 80\n",
      "10 x 9 = 90\n",
      "10 x 10 = 100\n"
     ]
    }
   ],
   "source": [
    "\n",
    "for i in range(1,11):\n",
    "    print(\"Multiplication Table of : \"+str(i))\n",
    "    for j in range(1,11): \n",
    "         print(i,'x',j,'=',j*i)  \n",
    "  "
   ]
  },
  {
   "cell_type": "code",
   "execution_count": 4,
   "id": "cf179c26",
   "metadata": {
    "scrolled": true
   },
   "outputs": [
    {
     "name": "stdout",
     "output_type": "stream",
     "text": [
      "[[ 99 101]\n",
      " [156 161]]\n"
     ]
    }
   ],
   "source": [
    "import numpy as np\n",
    "m1=np.array([[4,5,6],[7,8,9]])\n",
    "m2=np.array([[4,5],[7,9],[8,6]])\n",
    "m3=m1.dot(m2)\n",
    "print(m3)"
   ]
  },
  {
   "cell_type": "code",
   "execution_count": 5,
   "id": "c6477a4e",
   "metadata": {},
   "outputs": [
    {
     "name": "stdout",
     "output_type": "stream",
     "text": [
      "[20, 30, 4]\n",
      "[76, 153, 26]\n",
      "[48, 56, 24]\n"
     ]
    }
   ],
   "source": [
    "m1 = ([1,1,3],[11,5,6],[0 ,8,0])\n",
    "m2 = ([2,8,1],[6,7,3],[4,5,0])\n",
    "ans = ([0,0,0],[0,0,0],[0,0,0])\n",
    "\n",
    "for i in range(len(m1)):\n",
    "   for j in range(len(m2[0])):\n",
    "       for k in range(len(m2)):\n",
    "           ans[i][j] += m1[i][k]* m2[k][j]\n",
    "\n",
    "for l in ans:\n",
    "   print(l)\n"
   ]
  },
  {
   "cell_type": "code",
   "execution_count": 6,
   "id": "173af036",
   "metadata": {},
   "outputs": [
    {
     "name": "stdout",
     "output_type": "stream",
     "text": [
      "Enter the number 45\n",
      "45\n"
     ]
    }
   ],
   "source": [
    "num=int(input(\"Enter the number \"));\n",
    "if(num>10):\n",
    "    print(num);\n",
    "elif (num<10) :\n",
    "    print(num+10)\n",
    "  "
   ]
  },
  {
   "cell_type": "code",
   "execution_count": 7,
   "id": "59eaceea",
   "metadata": {},
   "outputs": [
    {
     "name": "stdout",
     "output_type": "stream",
     "text": [
      "Enter the number 45\n",
      "119622220865480194561963161495657715064383733760000000000\n"
     ]
    }
   ],
   "source": [
    "fact=1;\n",
    "num=int(input(\"Enter the number \"));\n",
    "while i<=num:\n",
    "    fact*=i;\n",
    "    i=i+1;\n",
    "print(fact)"
   ]
  },
  {
   "cell_type": "code",
   "execution_count": 8,
   "id": "2a90c239",
   "metadata": {},
   "outputs": [
    {
     "name": "stdout",
     "output_type": "stream",
     "text": [
      "Enter the number 4\n",
      "1 1 2 3 "
     ]
    }
   ],
   "source": [
    "a=1;\n",
    "b=1;\n",
    "num=int(input(\"Enter the number \"));\n",
    "if(num==1):\n",
    "    print(1);\n",
    "elif(num==2):\n",
    "    print(\"1  1\");\n",
    "else:\n",
    "    print(\"1 1\",end=\" \");\n",
    "    for i in range(1,(num-1)):\n",
    "        c=a+b;\n",
    "        print(c,end=\" \")\n",
    "        a=b;\n",
    "        b=c;"
   ]
  },
  {
   "cell_type": "code",
   "execution_count": 9,
   "id": "d8014284",
   "metadata": {},
   "outputs": [
    {
     "name": "stdout",
     "output_type": "stream",
     "text": [
      "Current date and time is  2021-08-10 17:27:41.306152\n"
     ]
    }
   ],
   "source": [
    "from datetime import datetime\n",
    "print(\"Current date and time is \",datetime.now())"
   ]
  },
  {
   "cell_type": "code",
   "execution_count": 10,
   "id": "adcf6d96",
   "metadata": {},
   "outputs": [
    {
     "name": "stdout",
     "output_type": "stream",
     "text": [
      "Enter the number of days you want to add to the present date4\n",
      "Today is  2021-08-10\n",
      "4 days after Current Date :2021-08-14\n",
      "Enter the number of days you want to subtract to the present date4\n",
      "4 days before Current Date :2021-08-06\n"
     ]
    }
   ],
   "source": [
    "from datetime import date, timedelta\n",
    "add=int(input(\"Enter the number of days you want to add to the present date\"))\n",
    "dt = date.today() +timedelta(add)\n",
    "print('Today is ',date.today())\n",
    "print(str(add) +' days after Current Date :'+str(dt))\n",
    "sub=int(input(\"Enter the number of days you want to subtract to the present date\"))\n",
    "dt = date.today() -timedelta(sub)\n",
    "print(str(add) +' days before Current Date :'+str(dt))\n"
   ]
  },
  {
   "cell_type": "code",
   "execution_count": 1,
   "id": "23ef4899",
   "metadata": {},
   "outputs": [
    {
     "name": "stdout",
     "output_type": "stream",
     "text": [
      "Enter the radius of the circle 4\n",
      "Area of circle is  50.26548245743669\n",
      "Perimeter of cirlce is  25.132741228718345\n"
     ]
    }
   ],
   "source": [
    "import math\n",
    "r=float(input(\"Enter the radius of the circle \"))\n",
    "area=math.pi*pow(r,2)\n",
    "print('Area of circle is ',area)\n",
    "print('Perimeter of cirlce is ',2*math.pi*r)"
   ]
  },
  {
   "cell_type": "code",
   "execution_count": 12,
   "id": "756ecf90",
   "metadata": {},
   "outputs": [
    {
     "name": "stdout",
     "output_type": "stream",
     "text": [
      "Enter the length of a Rectangle: 4\n",
      "Enter the breadth of a Rectangle: 4\n",
      "\n",
      " Area of a Rectangle is:  16.0\n",
      " Perimeter of Rectangle is:  16.0\n"
     ]
    }
   ],
   "source": [
    "l = float(input('Enter the length of a Rectangle: '))\n",
    "b = float(input('Enter the breadth of a Rectangle: '))\n",
    "a = l*b\n",
    "p= 2 * (l+b)\n",
    " \n",
    "print(\"\\n Area of a Rectangle is: \" ,a)\n",
    "print(\" Perimeter of Rectangle is: \" ,p)"
   ]
  },
  {
   "cell_type": "code",
   "execution_count": 14,
   "id": "e9e629cb",
   "metadata": {},
   "outputs": [
    {
     "name": "stdout",
     "output_type": "stream",
     "text": [
      "Enter A 1\n",
      "Enter B -5\n",
      "Enter C 6\n",
      "The solution are 2.0 and 3.0\n"
     ]
    }
   ],
   "source": [
    "import math  \n",
    "a = float(input('Enter A '))  \n",
    "b = float(input('Enter B '))  \n",
    "c = float(input('Enter C '))  \n",
    "x1 = (-b-math.sqrt((b**2) - (4*a*c)))/(2*a)  \n",
    "x2 = (-b+math.sqrt((b**2) - (4*a*c)))/(2*a)  \n",
    "print(f'The solution are {x1} and {x2}') "
   ]
  },
  {
   "cell_type": "code",
   "execution_count": 15,
   "id": "c17d6abd",
   "metadata": {},
   "outputs": [
    {
     "name": "stdout",
     "output_type": "stream",
     "text": [
      "Enter number 45\n",
      "Sum of first & last digit is  9\n"
     ]
    }
   ],
   "source": [
    "a = input('Enter number ')\n",
    "sum=int(a)%10+int(a[::-1])%10;\n",
    "print(\"Sum of first & last digit is \" ,sum)"
   ]
  },
  {
   "cell_type": "code",
   "execution_count": 16,
   "id": "d6060c5a",
   "metadata": {},
   "outputs": [
    {
     "name": "stdout",
     "output_type": "stream",
     "text": [
      "0 1 2 3 4 5 6 7 8 "
     ]
    }
   ],
   "source": [
    "for i in range(10):\n",
    "    print(i,end=' ')\n",
    "    if(i==8):\n",
    "        break\n",
    "else :\n",
    "    print(\"else part after for loop\")"
   ]
  },
  {
   "cell_type": "code",
   "execution_count": 17,
   "id": "59bc5f1f",
   "metadata": {},
   "outputs": [
    {
     "name": "stdout",
     "output_type": "stream",
     "text": [
      "Amity\n",
      "Amity\n",
      "Amity\n",
      "Good\n"
     ]
    }
   ],
   "source": [
    "i=7\n",
    "for i in range (0,5,2):\n",
    "    print('Amity')\n",
    "else:\n",
    "    print('Good')\n"
   ]
  },
  {
   "cell_type": "code",
   "execution_count": 13,
   "id": "d8fe50da",
   "metadata": {},
   "outputs": [
    {
     "name": "stdout",
     "output_type": "stream",
     "text": [
      "0    -0.546444\n",
      "1     0.289645\n",
      "2    -1.006293\n",
      "3    -1.006293\n",
      "4     0.289645\n",
      "5     0.833103\n",
      "6    -0.546444\n",
      "7    -1.466142\n",
      "8     1.209343\n",
      "9     1.752801\n",
      "10    0.373254\n",
      "11   -0.588248\n",
      "12   -1.006293\n",
      "13   -1.215315\n",
      "14   -0.630053\n",
      "15    0.206036\n",
      "16   -1.089902\n",
      "17   -1.089902\n",
      "18    0.206036\n",
      "19    0.749494\n",
      "20   -0.630053\n",
      "21   -1.549751\n",
      "22    1.125734\n",
      "23    1.669192\n",
      "24    0.289645\n",
      "25   -0.671857\n",
      "26   -1.089902\n",
      "27   -1.298924\n",
      "28   -0.421031\n",
      "29    0.415059\n",
      "30   -0.880880\n",
      "31   -0.880880\n",
      "32    0.415059\n",
      "33    0.958516\n",
      "34   -0.421031\n",
      "35   -1.340729\n",
      "36    1.334757\n",
      "37    1.878215\n",
      "38    0.498667\n",
      "39   -0.462835\n",
      "40   -0.880880\n",
      "41   -1.089902\n",
      "42    0.164232\n",
      "43    1.000321\n",
      "44   -0.295617\n",
      "45   -0.295617\n",
      "46    1.000321\n",
      "47    1.543779\n",
      "48    0.164232\n",
      "49   -0.755466\n",
      "50    1.920019\n",
      "51    2.463477\n",
      "52    1.083930\n",
      "53    0.122427\n",
      "54   -0.295617\n",
      "55   -0.504640\n",
      "Name: zscore, dtype: float64\n",
      "26.0\n",
      "65.5\n",
      "lower limit is: -33.25\n",
      "Upper limit is: 124.75\n",
      "Outlier in the dataset is: []\n"
     ]
    },
    {
     "data": {
      "image/png": "[encoded data removed]",
      "text/plain": [
       "<Figure size 432x288 with 1 Axes>"
      ]
     },
     "metadata": {
      "needs_background": "light"
     },
     "output_type": "display_data"
    }
   ],
   "source": [
    "import pandas as pd\n",
    "import matplotlib.pyplot as plt\n",
    "%matplotlib inline\n",
    "df = pd.read_excel('data.xlsx')\n",
    "plt.boxplot(df)\n",
    "df['zscore'] = (df - df.mean())/df.std(ddof=0)\n",
    "print(df['zscore'])\n",
    "\n",
    "q1=df['X'].quantile(0.25)\n",
    "q3=df['X'].quantile(0.75)\n",
    "\n",
    "IQR=q3-q1\n",
    "\n",
    "low_lim=q1-1.5*IQR\n",
    "up_lim=q3+1.5*IQR\n",
    "\n",
    "print(q1)\n",
    "print(q3)\n",
    "\n",
    "print(\"lower limit is:\",low_lim)\n",
    "print(\"Upper limit is:\",up_lim)\n",
    "outlier=[]\n",
    "\n",
    "for x in df['X']:\n",
    "    if((x>up_lim) or (x<low_lim)):\n",
    "       outlier.append(x)\n",
    "       \n",
    "       \n",
    "print(\"Outlier in the dataset is:\",outlier)"
   ]
  },
  {
   "cell_type": "code",
   "execution_count": 5,
   "id": "dcf4b3ed",
   "metadata": {},
   "outputs": [
    {
     "data": {
      "text/plain": [
       "{'whiskers': [<matplotlib.lines.Line2D at 0x29ea34f9040>,\n",
       "  <matplotlib.lines.Line2D at 0x29ea34f93a0>,\n",
       "  <matplotlib.lines.Line2D at 0x29ea3504820>,\n",
       "  <matplotlib.lines.Line2D at 0x29ea3504b80>],\n",
       " 'caps': [<matplotlib.lines.Line2D at 0x29ea34f9700>,\n",
       "  <matplotlib.lines.Line2D at 0x29ea34f9a60>,\n",
       "  <matplotlib.lines.Line2D at 0x29ea3504ee0>,\n",
       "  <matplotlib.lines.Line2D at 0x29ea3510280>],\n",
       " 'boxes': [<matplotlib.lines.Line2D at 0x29ea34ecca0>,\n",
       "  <matplotlib.lines.Line2D at 0x29ea35044c0>],\n",
       " 'medians': [<matplotlib.lines.Line2D at 0x29ea34f9dc0>,\n",
       "  <matplotlib.lines.Line2D at 0x29ea35105e0>],\n",
       " 'fliers': [<matplotlib.lines.Line2D at 0x29ea3504160>,\n",
       "  <matplotlib.lines.Line2D at 0x29ea3510940>],\n",
       " 'means': []}"
      ]
     },
     "execution_count": 5,
     "metadata": {},
     "output_type": "execute_result"
    },
    {
     "data": {
      "image/png": "[encoded data removed]",
      "text/plain": [
       "<Figure size 432x288 with 1 Axes>"
      ]
     },
     "metadata": {
      "needs_background": "light"
     },
     "output_type": "display_data"
    }
   ],
   "source": [
    "plt.boxplot(df,vert=False)"
   ]
  },
  {
   "cell_type": "code",
   "execution_count": 9,
   "id": "2eee7e42",
   "metadata": {},
   "outputs": [
    {
     "name": "stdout",
     "output_type": "stream",
     "text": [
      "Enter number of quantity 5\n",
      "Enter the price of item 5\n",
      "Total amount is  25.0\n"
     ]
    }
   ],
   "source": [
    "n= int(input('Enter number of quantity '))\n",
    "price=float(input('Enter the price of item '))\n",
    "if n >100 :\n",
    "    total=0.90*n*price   \n",
    "else :  \n",
    "    total=n*price\n",
    "print('Total amount is ',total)\n"
   ]
  },
  {
   "cell_type": "code",
   "execution_count": 10,
   "id": "a84d49a2",
   "metadata": {},
   "outputs": [
    {
     "name": "stdout",
     "output_type": "stream",
     "text": [
      "\n",
      "+ for addition\n",
      "- for subtraction\n",
      "* for multiplication\n",
      "/ for division\n",
      "+\n",
      "Enter your first number: 4\n",
      "Enter your second number: 5\n",
      "4 + 5 =\n",
      "9\n"
     ]
    }
   ],
   "source": [
    "operation = input('''\n",
    "+ for addition\n",
    "- for subtraction\n",
    "* for multiplication\n",
    "/ for division\n",
    "''')\n",
    "\n",
    "n1 = int(input('Enter your first number: '))\n",
    "n2 = int(input('Enter your second number: '))\n",
    "\n",
    "if operation == '+':\n",
    "    print('{} + {} ='.format(n1,n2))\n",
    "    print(n1 + n2)\n",
    "\n",
    "elif operation == '-':\n",
    "    print('{n1} - {n2} = '.format(n1,n2))\n",
    "    print(n1 - n2)\n",
    "\n",
    "elif operation == '*':\n",
    "    print('{} * {} = '.format(n1,n2))\n",
    "    print(n1 * n2)\n",
    "\n",
    "elif operation == '/':\n",
    "    print('{} / {} = '.format(n1,n2))\n",
    "    print(n1 / n2)\n",
    "\n",
    "else:\n",
    "    print('Invalid Operator')"
   ]
  },
  {
   "cell_type": "code",
   "execution_count": 11,
   "id": "2ff327f1",
   "metadata": {},
   "outputs": [
    {
     "data": {
      "image/png": "[encoded data removed]",
      "text/plain": [
       "<Figure size 720x504 with 1 Axes>"
      ]
     },
     "metadata": {
      "needs_background": "light"
     },
     "output_type": "display_data"
    },
    {
     "name": "stdout",
     "output_type": "stream",
     "text": [
      "[[ 0.2        -0.68567676 -0.32192344]\n",
      " [ 1.4        -0.64910733  0.25136488]\n",
      " [ 0.6        -0.44797548 -0.71881535]\n",
      " [ 1.8        -0.44188058  0.60415769]\n",
      " [-0.6        -0.74662581  2.67681546]\n",
      " [-1.4        -0.38093153 -0.80701356]\n",
      " [-1.          0.83804938 -0.58651805]\n",
      " [-0.2         0.22855892 -0.36602254]\n",
      " [-1.          2.66652074 -0.80701356]\n",
      " [ 0.2        -0.38093153  0.07496847]]\n"
     ]
    }
   ],
   "source": [
    "import matplotlib.pyplot as plt\n",
    "import numpy as np\n",
    "import scipy.stats as st\n",
    "import pandas as pd\n",
    "\n",
    "data= pd.DataFrame({'X':[5,8,6,9,3,1,2,4,2,5] ,\n",
    "                    'Y':[50,56,89,90,40,100,300,200,600,100],\n",
    "                    'Z':[21,34,12,42,89,10,15,20,10,30]})\n",
    "    \n",
    "fig = plt.figure(figsize =(10, 7))\n",
    " \n",
    "# Creating plot\n",
    "plt.boxplot(data)\n",
    " \n",
    "# show plot\n",
    "plt.show()\n",
    "\n",
    "x= st.zscore(data)\n",
    "print(x)"
   ]
  },
  {
   "cell_type": "code",
   "execution_count": 3,
   "id": "00ce512f",
   "metadata": {},
   "outputs": [
    {
     "name": "stdout",
     "output_type": "stream",
     "text": [
      "[8, 2, 3, 4, 5, 6, 7, 1]\n"
     ]
    }
   ],
   "source": [
    "l=[1,2,3,4,5,6,7,8]\n",
    "temp=l[0]\n",
    "l[0]=l[-1]\n",
    "l[-1]=temp\n",
    "print(l)"
   ]
  },
  {
   "cell_type": "code",
   "execution_count": 4,
   "id": "46af90f8",
   "metadata": {},
   "outputs": [
    {
     "name": "stdout",
     "output_type": "stream",
     "text": [
      "2 4 6 8 "
     ]
    }
   ],
   "source": [
    "l=[1,2,3,4,5,6,7,8]\n",
    "for i in l:\n",
    "    if(i%2==0):\n",
    "        print(i,end=\" \")"
   ]
  },
  {
   "cell_type": "code",
   "execution_count": 6,
   "id": "1fac1cf6",
   "metadata": {},
   "outputs": [
    {
     "name": "stdout",
     "output_type": "stream",
     "text": [
      "Enter the number which you want to remove11\n",
      "[1, 2, 3, 4, 5, 6, 7, 8]\n"
     ]
    }
   ],
   "source": [
    "li=[1,11,22,3,9,4,11,2,3,4,5,6,7,8]\n",
    "n=int(input(\"Enter the number which you want to remove\"))\n",
    "ans = [i for i in l if i != n]\n",
    "print(ans)"
   ]
  },
  {
   "cell_type": "code",
   "execution_count": 8,
   "id": "4ca4856a",
   "metadata": {},
   "outputs": [
    {
     "name": "stdout",
     "output_type": "stream",
     "text": [
      "4\n"
     ]
    }
   ],
   "source": [
    "lis = [11, 11, 2, 22,2, 3]\n",
    "uni = set(lis)\n",
    "ans = len(uni)\n",
    "print(ans)"
   ]
  },
  {
   "cell_type": "code",
   "execution_count": 12,
   "id": "216f7357",
   "metadata": {},
   "outputs": [
    {
     "name": "stdout",
     "output_type": "stream",
     "text": [
      "Enter the Total Number of Elements: 5\n",
      "Value 0  : 1\n",
      "Value 1  : 2\n",
      "Value 2  : 3\n",
      "Value 3  : 9\n",
      "Value 4  : 1\n",
      "Element After Sorting List in Ascending Order is :  [1, 1, 2, 3, 9]\n"
     ]
    }
   ],
   "source": [
    "Li = []\n",
    "\n",
    "n = int(input(\"Enter the Total Number of Elements: \"))\n",
    "for i in range(0,n):\n",
    "    value = int(input(\"Value %d  : \" %i))\n",
    "    Li.append(value)\n",
    "\n",
    "for i in range (n):\n",
    "    for j in range(i + 1, n):\n",
    "        if(Li[i] > Li[j]):\n",
    "            temp = Li[i]\n",
    "            Li[i] = Li[j]\n",
    "            Li[j] = temp\n",
    "\n",
    "print(\"Element After Sorting List in Ascending Order is : \",Li)"
   ]
  },
  {
   "cell_type": "code",
   "execution_count": 13,
   "id": "f7e0a714",
   "metadata": {},
   "outputs": [
    {
     "name": "stdout",
     "output_type": "stream",
     "text": [
      "[1, 1, 2, 5, 7, 0]\n"
     ]
    }
   ],
   "source": [
    "items = [0,1,2,5,7,1]\n",
    "\n",
    "\n",
    "\n",
    "# without using the third variable\n",
    "\n",
    "items[0] = items[0] + items[len(items)-1]\n",
    "\n",
    "items[len(items)-1] = items[0] - items[len(items)-1]\n",
    "\n",
    "items[0] = items[0] - items[len(items)-1]\n",
    "\n",
    "print(items)"
   ]
  },
  {
   "cell_type": "code",
   "execution_count": 1,
   "id": "dd3c3de1",
   "metadata": {},
   "outputs": [
    {
     "name": "stdout",
     "output_type": "stream",
     "text": [
      "('Abhinav', 77.6, 14, True)\n"
     ]
    }
   ],
   "source": [
    "# 2. Write a Python program to create a tuple with different data types. \n",
    "t1 = (\"Abhinav\",77.6,14,True)\n",
    "print(t1)"
   ]
  },
  {
   "cell_type": "code",
   "execution_count": 2,
   "id": "d0922753",
   "metadata": {},
   "outputs": [
    {
     "name": "stdout",
     "output_type": "stream",
     "text": [
      "Abhinav 77.6 14 True\n"
     ]
    }
   ],
   "source": [
    "# 4. Write a Python program to unpack a tuple in several variables. \n",
    "a,b,c,d=t1\n",
    "print(a,b,c,d)"
   ]
  },
  {
   "cell_type": "code",
   "execution_count": 3,
   "id": "8c9a9c4d",
   "metadata": {},
   "outputs": [
    {
     "name": "stdout",
     "output_type": "stream",
     "text": [
      "ABHINAV\n"
     ]
    }
   ],
   "source": [
    "#6. Write a Python program to convert a tuple to a string. \n",
    "t = ('A', 'B', 'H', 'I', 'N', 'A', 'V')\n",
    "ans =  ''.join(t)\n",
    "print(ans)    \n",
    "    "
   ]
  },
  {
   "cell_type": "code",
   "execution_count": 7,
   "id": "a54e6875",
   "metadata": {},
   "outputs": [
    {
     "name": "stdout",
     "output_type": "stream",
     "text": [
      "('Abhinav', 77.6, [78], True)\n",
      "('Abhinav', 77.6, [], True)\n"
     ]
    }
   ],
   "source": [
    "# 8. Write a Python program to create the colon of a tuple. \n",
    "from copy import deepcopy\n",
    "t1 = (\"Abhinav\",77.6,[],True)\n",
    "#make a copy of a tuple using deepcopy() function\n",
    "t1_colon = deepcopy(t1)\n",
    "t1_colon[2].append(78)\n",
    "print(t1_colon)\n",
    "print(t1)\n"
   ]
  },
  {
   "cell_type": "code",
   "execution_count": 8,
   "id": "0aa94dae",
   "metadata": {},
   "outputs": [
    {
     "name": "stdout",
     "output_type": "stream",
     "text": [
      "True\n"
     ]
    }
   ],
   "source": [
    "#10. Write a Python program to check whether an element exists within a tuple. \n",
    "print(\"Abhinav\" in t1)"
   ]
  },
  {
   "cell_type": "code",
   "execution_count": 14,
   "id": "5ff26f8f",
   "metadata": {},
   "outputs": [
    {
     "name": "stdout",
     "output_type": "stream",
     "text": [
      "('Abhinav', 77.6, [], True)\n",
      "[77.6, [], True]\n",
      "(77.6, [], True)\n"
     ]
    }
   ],
   "source": [
    "#12. Write a Python program to remove an item from a tuple. \n",
    "t1 = (\"Abhinav\",77.6,[],True)\n",
    "print(t1)\n",
    "l1=list(t1)\n",
    "l1.remove(\"Abhinav\")\n",
    "print(l1)\n",
    "t1=tuple(l1)\n",
    "print(t1)"
   ]
  },
  {
   "cell_type": "code",
   "execution_count": 15,
   "id": "128ff62e",
   "metadata": {},
   "outputs": [
    {
     "name": "stdout",
     "output_type": "stream",
     "text": [
      "0\n"
     ]
    }
   ],
   "source": [
    "#14. Write a Python program to find the index of an item of a tuple. \n",
    "index = t1.index(77.6)\n",
    "print(index)"
   ]
  },
  {
   "cell_type": "code",
   "execution_count": 3,
   "id": "b0babc4d",
   "metadata": {},
   "outputs": [
    {
     "name": "stdout",
     "output_type": "stream",
     "text": [
      " | | \n",
      "-+-+-\n",
      " | | \n",
      "-+-+-\n",
      " | | \n",
      "It's your turn,X.Move to which place?\n",
      "1\n",
      " | | \n",
      "-+-+-\n",
      " | | \n",
      "-+-+-\n",
      "X| | \n",
      "It's your turn,O.Move to which place?\n",
      "8\n",
      " |O| \n",
      "-+-+-\n",
      " | | \n",
      "-+-+-\n",
      "X| | \n",
      "It's your turn,X.Move to which place?\n",
      "5\n",
      " |O| \n",
      "-+-+-\n",
      " |X| \n",
      "-+-+-\n",
      "X| | \n",
      "It's your turn,O.Move to which place?\n",
      "7\n",
      "O|O| \n",
      "-+-+-\n",
      " |X| \n",
      "-+-+-\n",
      "X| | \n",
      "It's your turn,X.Move to which place?\n",
      "9\n",
      "O|O|X\n",
      "-+-+-\n",
      " |X| \n",
      "-+-+-\n",
      "X| | \n",
      "\n",
      "Game Over.\n",
      "\n",
      " **** X won. ****\n"
     ]
    },
    {
     "ename": "KeyboardInterrupt",
     "evalue": "Interrupted by user",
     "output_type": "error",
     "traceback": [
      "\u001b[1;31m---------------------------------------------------------------------------\u001b[0m",
      "\u001b[1;31mKeyboardInterrupt\u001b[0m                         Traceback (most recent call last)",
      "\u001b[1;32m<ipython-input-3-d60ab9a91983>\u001b[0m in \u001b[0;36m<module>\u001b[1;34m\u001b[0m\n\u001b[0;32m    102\u001b[0m \u001b[1;33m\u001b[0m\u001b[0m\n\u001b[0;32m    103\u001b[0m \u001b[1;32mif\u001b[0m \u001b[0m__name__\u001b[0m \u001b[1;33m==\u001b[0m \u001b[1;34m\"__main__\"\u001b[0m\u001b[1;33m:\u001b[0m\u001b[1;33m\u001b[0m\u001b[1;33m\u001b[0m\u001b[0m\n\u001b[1;32m--> 104\u001b[1;33m     \u001b[0mgame\u001b[0m\u001b[1;33m(\u001b[0m\u001b[1;33m)\u001b[0m\u001b[1;33m\u001b[0m\u001b[1;33m\u001b[0m\u001b[0m\n\u001b[0m",
      "\u001b[1;32m<ipython-input-3-d60ab9a91983>\u001b[0m in \u001b[0;36mgame\u001b[1;34m()\u001b[0m\n\u001b[0;32m     94\u001b[0m \u001b[1;33m\u001b[0m\u001b[0m\n\u001b[0;32m     95\u001b[0m     \u001b[1;31m# Now we will ask if player wants to restart the game or not.\u001b[0m\u001b[1;33m\u001b[0m\u001b[1;33m\u001b[0m\u001b[1;33m\u001b[0m\u001b[0m\n\u001b[1;32m---> 96\u001b[1;33m     \u001b[0mrestart\u001b[0m \u001b[1;33m=\u001b[0m \u001b[0minput\u001b[0m\u001b[1;33m(\u001b[0m\u001b[1;34m\"Do want to play Again?(y/n)\"\u001b[0m\u001b[1;33m)\u001b[0m\u001b[1;33m\u001b[0m\u001b[1;33m\u001b[0m\u001b[0m\n\u001b[0m\u001b[0;32m     97\u001b[0m     \u001b[1;32mif\u001b[0m \u001b[0mrestart\u001b[0m \u001b[1;33m==\u001b[0m \u001b[1;34m\"y\"\u001b[0m \u001b[1;32mor\u001b[0m \u001b[0mrestart\u001b[0m \u001b[1;33m==\u001b[0m \u001b[1;34m\"Y\"\u001b[0m\u001b[1;33m:\u001b[0m\u001b[1;33m\u001b[0m\u001b[1;33m\u001b[0m\u001b[0m\n\u001b[0;32m     98\u001b[0m         \u001b[1;32mfor\u001b[0m \u001b[0mkey\u001b[0m \u001b[1;32min\u001b[0m \u001b[0mboard_keys\u001b[0m\u001b[1;33m:\u001b[0m\u001b[1;33m\u001b[0m\u001b[1;33m\u001b[0m\u001b[0m\n",
      "\u001b[1;32mC:\\Anaconda\\lib\\site-packages\\ipykernel\\kernelbase.py\u001b[0m in \u001b[0;36mraw_input\u001b[1;34m(self, prompt)\u001b[0m\n\u001b[0;32m    858\u001b[0m                 \u001b[1;34m\"raw_input was called, but this frontend does not support input requests.\"\u001b[0m\u001b[1;33m\u001b[0m\u001b[1;33m\u001b[0m\u001b[0m\n\u001b[0;32m    859\u001b[0m             )\n\u001b[1;32m--> 860\u001b[1;33m         return self._input_request(str(prompt),\n\u001b[0m\u001b[0;32m    861\u001b[0m             \u001b[0mself\u001b[0m\u001b[1;33m.\u001b[0m\u001b[0m_parent_ident\u001b[0m\u001b[1;33m,\u001b[0m\u001b[1;33m\u001b[0m\u001b[1;33m\u001b[0m\u001b[0m\n\u001b[0;32m    862\u001b[0m             \u001b[0mself\u001b[0m\u001b[1;33m.\u001b[0m\u001b[0m_parent_header\u001b[0m\u001b[1;33m,\u001b[0m\u001b[1;33m\u001b[0m\u001b[1;33m\u001b[0m\u001b[0m\n",
      "\u001b[1;32mC:\\Anaconda\\lib\\site-packages\\ipykernel\\kernelbase.py\u001b[0m in \u001b[0;36m_input_request\u001b[1;34m(self, prompt, ident, parent, password)\u001b[0m\n\u001b[0;32m    902\u001b[0m             \u001b[1;32mexcept\u001b[0m \u001b[0mKeyboardInterrupt\u001b[0m\u001b[1;33m:\u001b[0m\u001b[1;33m\u001b[0m\u001b[1;33m\u001b[0m\u001b[0m\n\u001b[0;32m    903\u001b[0m                 \u001b[1;31m# re-raise KeyboardInterrupt, to truncate traceback\u001b[0m\u001b[1;33m\u001b[0m\u001b[1;33m\u001b[0m\u001b[1;33m\u001b[0m\u001b[0m\n\u001b[1;32m--> 904\u001b[1;33m                 \u001b[1;32mraise\u001b[0m \u001b[0mKeyboardInterrupt\u001b[0m\u001b[1;33m(\u001b[0m\u001b[1;34m\"Interrupted by user\"\u001b[0m\u001b[1;33m)\u001b[0m \u001b[1;32mfrom\u001b[0m \u001b[1;32mNone\u001b[0m\u001b[1;33m\u001b[0m\u001b[1;33m\u001b[0m\u001b[0m\n\u001b[0m\u001b[0;32m    905\u001b[0m             \u001b[1;32mexcept\u001b[0m \u001b[0mException\u001b[0m \u001b[1;32mas\u001b[0m \u001b[0me\u001b[0m\u001b[1;33m:\u001b[0m\u001b[1;33m\u001b[0m\u001b[1;33m\u001b[0m\u001b[0m\n\u001b[0;32m    906\u001b[0m                 \u001b[0mself\u001b[0m\u001b[1;33m.\u001b[0m\u001b[0mlog\u001b[0m\u001b[1;33m.\u001b[0m\u001b[0mwarning\u001b[0m\u001b[1;33m(\u001b[0m\u001b[1;34m\"Invalid Message:\"\u001b[0m\u001b[1;33m,\u001b[0m \u001b[0mexc_info\u001b[0m\u001b[1;33m=\u001b[0m\u001b[1;32mTrue\u001b[0m\u001b[1;33m)\u001b[0m\u001b[1;33m\u001b[0m\u001b[1;33m\u001b[0m\u001b[0m\n",
      "\u001b[1;31mKeyboardInterrupt\u001b[0m: Interrupted by user"
     ]
    }
   ],
   "source": [
    "theBoard = {'7': ' ' , '8': ' ' , '9': ' ' ,\n",
    "            '4': ' ' , '5': ' ' , '6': ' ' ,\n",
    "            '1': ' ' , '2': ' ' , '3': ' ' }\n",
    "\n",
    "board_keys = []\n",
    "\n",
    "for key in theBoard:\n",
    "    board_keys.append(key)\n",
    "\n",
    "def printBoard(board):\n",
    "    print(board['7'] + '|' + board['8'] + '|' + board['9'])\n",
    "    print('-+-+-')\n",
    "    print(board['4'] + '|' + board['5'] + '|' + board['6'])\n",
    "    print('-+-+-')\n",
    "    print(board['1'] + '|' + board['2'] + '|' + board['3'])\n",
    "\n",
    "def game():\n",
    "\n",
    "    turn = 'X'\n",
    "    count = 0\n",
    "\n",
    "\n",
    "    for i in range(10):\n",
    "        printBoard(theBoard)\n",
    "        print(\"It's your turn,\" + turn + \".Move to which place?\")\n",
    "\n",
    "        move = input()        \n",
    "\n",
    "        if theBoard[move] == ' ':\n",
    "            theBoard[move] = turn\n",
    "            count += 1\n",
    "        else:\n",
    "            print(\"That place is already filled.\\nMove to which place?\")\n",
    "            continue\n",
    "\n",
    "        # Now we will check if player X or O has won,for every move after 5 moves. \n",
    "        if count >= 5:\n",
    "            if theBoard['7'] == theBoard['8'] == theBoard['9'] != ' ': # across the top\n",
    "                printBoard(theBoard)\n",
    "                print(\"\\nGame Over.\\n\")                \n",
    "                print(\" **** \" +turn + \" won. ****\")                \n",
    "                break\n",
    "            elif theBoard['4'] == theBoard['5'] == theBoard['6'] != ' ': # across the middle\n",
    "                printBoard(theBoard)\n",
    "                print(\"\\nGame Over.\\n\")                \n",
    "                print(\" **** \" +turn + \" won. ****\")\n",
    "                break\n",
    "            elif theBoard['1'] == theBoard['2'] == theBoard['3'] != ' ': # across the bottom\n",
    "                printBoard(theBoard)\n",
    "                print(\"\\nGame Over.\\n\")                \n",
    "                print(\" **** \" +turn + \" won. ****\")\n",
    "                break\n",
    "            elif theBoard['1'] == theBoard['4'] == theBoard['7'] != ' ': # down the left side\n",
    "                printBoard(theBoard)\n",
    "                print(\"\\nGame Over.\\n\")                \n",
    "                print(\" **** \" +turn + \" won. ****\")\n",
    "                break\n",
    "            elif theBoard['2'] == theBoard['5'] == theBoard['8'] != ' ': # down the middle\n",
    "                printBoard(theBoard)\n",
    "                print(\"\\nGame Over.\\n\")                \n",
    "                print(\" **** \" +turn + \" won. ****\")\n",
    "                break\n",
    "            elif theBoard['3'] == theBoard['6'] == theBoard['9'] != ' ': # down the right side\n",
    "                printBoard(theBoard)\n",
    "                print(\"\\nGame Over.\\n\")                \n",
    "                print(\" **** \" +turn + \" won. ****\")\n",
    "                break \n",
    "            elif theBoard['7'] == theBoard['5'] == theBoard['3'] != ' ': # diagonal\n",
    "                printBoard(theBoard)\n",
    "                print(\"\\nGame Over.\\n\")                \n",
    "                print(\" **** \" +turn + \" won. ****\")\n",
    "                break\n",
    "            elif theBoard['1'] == theBoard['5'] == theBoard['9'] != ' ': # diagonal\n",
    "                printBoard(theBoard)\n",
    "                print(\"\\nGame Over.\\n\")                \n",
    "                print(\" **** \" +turn + \" won. ****\")\n",
    "                break \n",
    "\n",
    "        # If neither X nor O wins and the board is full, we'll declare the result as 'tie'.\n",
    "        if count == 9:\n",
    "            print(\"\\nGame Over.\\n\")                \n",
    "            print(\"It's a Tie!!\")\n",
    "\n",
    "        # Now we have to change the player after every move.\n",
    "        if turn =='X':\n",
    "            turn = 'O'\n",
    "        else:\n",
    "            turn = 'X'        \n",
    "    \n",
    "    # Now we will ask if player wants to restart the game or not.\n",
    "    restart = input(\"Do want to play Again?(y/n)\")\n",
    "    if restart == \"y\" or restart == \"Y\":  \n",
    "        for key in board_keys:\n",
    "            theBoard[key] = \" \"\n",
    "\n",
    "        game()\n",
    "\n",
    "if __name__ == \"__main__\":\n",
    "    game()"
   ]
  },
  {
   "cell_type": "code",
   "execution_count": 8,
   "id": "d4cc66db",
   "metadata": {},
   "outputs": [
    {
     "name": "stdout",
     "output_type": "stream",
     "text": [
      "Yes\n"
     ]
    }
   ],
   "source": [
    "def isSymmetric(mat, N):\n",
    "    for i in range(N): \n",
    "        for j in range(N):\n",
    "            if (mat[i][j]!=mat[j][i]): \n",
    "                return False\n",
    "    return True\n",
    "   \n",
    "# Driver code \n",
    "mat = [ [ 1, 3, 9 ], [ 3, 2, 4 ], [ 9, 4, 1 ] ] \n",
    "if (isSymmetric(mat, 3)): \n",
    "    print(\"Yes\")\n",
    "else: \n",
    "    print (\"No\")"
   ]
  },
  {
   "cell_type": "code",
   "execution_count": 22,
   "id": "30ef3bfa",
   "metadata": {},
   "outputs": [
    {
     "name": "stdout",
     "output_type": "stream",
     "text": [
      "Enter the number: 5\n",
      "* \n",
      "\n",
      "* * \n",
      "\n",
      "* * * \n",
      "\n",
      "* * * * \n",
      "\n",
      "* * * * * \n",
      "\n"
     ]
    }
   ],
   "source": [
    "n = int(input(\"Enter the number: \"))\n",
    "for i in range(n):\n",
    "    for j in range(i+1):\n",
    "        print(\"*\",end=\" \")\n",
    "    print(\"\\n\")\n"
   ]
  },
  {
   "cell_type": "code",
   "execution_count": 5,
   "id": "560f9e88",
   "metadata": {},
   "outputs": [
    {
     "name": "stdout",
     "output_type": "stream",
     "text": [
      "('d', 'e')\n",
      "('b', 'd', 'f')\n"
     ]
    }
   ],
   "source": [
    "a = (\"a\", \"b\", \"c\", \"d\", \"e\", \"f\", \"g\", \"h\")\n",
    "x = slice(3, 5)\n",
    "print(a[x])\n",
    "y=slice(1,7,2)\n",
    "print(a[y])"
   ]
  },
  {
   "cell_type": "code",
   "execution_count": 25,
   "id": "efe4b695",
   "metadata": {},
   "outputs": [
    {
     "name": "stdout",
     "output_type": "stream",
     "text": [
      "    Abhinav  is  Abhinav   \n",
      "Abhinav  is  Abhinav\n",
      "banana\n"
     ]
    }
   ],
   "source": [
    "string = \"\"\"    Abhinav  is  Abhinav   \"\"\"\n",
    "\n",
    "print(string) #original string\n",
    "\n",
    "print(string.strip())  \n",
    "\n",
    "txt = \",,,,,rrttgg.....banana....rrr\"\n",
    "\n",
    "x = txt.strip(\",.grt\")\n",
    "\n",
    "print(x)"
   ]
  },
  {
   "cell_type": "code",
   "execution_count": 22,
   "id": "8c62835b",
   "metadata": {},
   "outputs": [
    {
     "name": "stdout",
     "output_type": "stream",
     "text": [
      "Kunal Pratap Singh\n"
     ]
    }
   ],
   "source": [
    "st= \"Abhinav Pratap Singh\"\n",
    "a=st.replace(\"Abhinav\",\"Kunal\")  \n",
    " \n",
    "# prints the string by replacing Abhinav with Kunal\n",
    "print(a)"
   ]
  },
  {
   "cell_type": "code",
   "execution_count": 26,
   "id": "1b4c6dfa",
   "metadata": {},
   "outputs": [
    {
     "name": "stdout",
     "output_type": "stream",
     "text": [
      "Enter value of first variable: 8\n",
      "Enter value of second variable: 9\n",
      "a is: 9  b is: 8\n"
     ]
    }
   ],
   "source": [
    "a=int(input(\"Enter value of first variable: \"))\n",
    "b=int(input(\"Enter value of second variable: \"))\n",
    "a=a+b\n",
    "b=a-b\n",
    "a=a-b\n",
    "print(\"a is:\",a,\" b is:\",b)"
   ]
  },
  {
   "cell_type": "code",
   "execution_count": 27,
   "id": "9b02e444",
   "metadata": {},
   "outputs": [
    {
     "name": "stdout",
     "output_type": "stream",
     "text": [
      "Enter value of first variable: 9\n",
      "Enter value of second variable: 11\n",
      "x is: 11.0  y is: 9.0\n"
     ]
    }
   ],
   "source": [
    "x=int(input(\"Enter value of first variable: \"))\n",
    "y=int(input(\"Enter value of second variable: \"))\n",
    "x = x * y\n",
    "y = x / y\n",
    "x = x / y\n",
    "print(\"x is:\",x,\" y is:\",y)\n"
   ]
  },
  {
   "cell_type": "code",
   "execution_count": 28,
   "id": "5d37cf75",
   "metadata": {},
   "outputs": [
    {
     "name": "stdout",
     "output_type": "stream",
     "text": [
      "x = 95\n",
      "y = 11\n"
     ]
    }
   ],
   "source": [
    "x = 11\n",
    "y = 95\n",
    "\n",
    "x, y = y, x\n",
    "print(\"x =\", x)\n",
    "print(\"y =\", y)\n"
   ]
  },
  {
   "cell_type": "code",
   "execution_count": 30,
   "id": "3dea2416",
   "metadata": {},
   "outputs": [
    {
     "name": "stdout",
     "output_type": "stream",
     "text": [
      "1014\n"
     ]
    }
   ],
   "source": [
    "# 9x3 - 11x2 + 33x - 1 for x = 5\n",
    "poly = [9, -11, 33, -1]\n",
    "x = 5\n",
    "n = len(poly)\n",
    "\n",
    "result = 0\n",
    "for i in range(n):\n",
    "    Sum = poly[i]\n",
    "    for j in range(n - i - 1):\n",
    "        Sum = Sum * x\n",
    "    result = result + Sum\n",
    "print(result)"
   ]
  },
  {
   "cell_type": "code",
   "execution_count": 34,
   "id": "602455ca",
   "metadata": {},
   "outputs": [
    {
     "name": "stdout",
     "output_type": "stream",
     "text": [
      "Enter an integer:27\n",
      "Divisors are :  [1, 3, 9, 27]\n"
     ]
    }
   ],
   "source": [
    "n=int(input(\"Enter an integer:\"))\n",
    "divisors=[]\n",
    "for i in range(1,n+1):\n",
    "    if(n%i==0):\n",
    "        divisors.append(i)\n",
    "print(\"Divisors are : \",divisors)"
   ]
  },
  {
   "cell_type": "code",
   "execution_count": 36,
   "id": "d82c1673",
   "metadata": {},
   "outputs": [
    {
     "name": "stdout",
     "output_type": "stream",
     "text": [
      "Enter a number:101\n",
      "The number is palindrome!\n"
     ]
    }
   ],
   "source": [
    "num=int(input(\"Enter a number:\"))\n",
    "temp=num\n",
    "rev=0\n",
    "while(num>0):\n",
    "    dig=num%10\n",
    "    rev=rev*10+dig\n",
    "    num=num//10\n",
    "if(temp==rev):\n",
    "    print(\"The number is palindrome!\")\n",
    "else:\n",
    "    print(\"Not a palindrome!\")"
   ]
  },
  {
   "cell_type": "code",
   "execution_count": 41,
   "id": "a5f31875",
   "metadata": {},
   "outputs": [
    {
     "name": "stdout",
     "output_type": "stream",
     "text": [
      "Enter the number of rows : 5\n",
      "           1\n",
      "         1   1\n",
      "       1   2   1\n",
      "     1   3   3   1\n",
      "   1   4   6   4   1\n"
     ]
    }
   ],
   "source": [
    "def fact(n):\n",
    "    res=1\n",
    "    for c in range(1,n+1):\n",
    "        res = res*c\n",
    "    \n",
    "    return res\n",
    "\n",
    "rows = int(input(\"Enter the number of rows : \"))\n",
    "\n",
    "for i in range(0, rows):\n",
    "    for j in range(1, rows-i):\n",
    "        print(\"  \", end=\"\")\n",
    "\n",
    "    for k in range(0, i+1):\n",
    "        coff = int(fact(i)/(fact(k)*fact(i-k)))\n",
    "        print(\"  \", coff, end=\"\")\n",
    "    \n",
    "    print()"
   ]
  },
  {
   "cell_type": "code",
   "execution_count": 42,
   "id": "1a1d0668",
   "metadata": {},
   "outputs": [
    {
     "name": "stdout",
     "output_type": "stream",
     "text": [
      "Enter the number of rows : 5\n",
      "           1\n",
      "         1   1\n",
      "       1   2   1\n",
      "     1   3   3   1\n",
      "   1   4   6   4   1\n"
     ]
    }
   ],
   "source": [
    "rows = int(input(\"Enter the number of rows : \"))\n",
    "for i in range(0, rows):\n",
    "    coff = 1\n",
    "\n",
    "    for j in range(1, rows-i):\n",
    "        print(\"  \", end=\"\")\n",
    "    \n",
    "    for k in range(0, i+1):\n",
    "        print(\"  \", coff, end=\"\")\n",
    "        coff = int(coff * (i - k) / (k + 1))\n",
    "\n",
    "    print()"
   ]
  },
  {
   "cell_type": "code",
   "execution_count": 43,
   "id": "396d5d30",
   "metadata": {},
   "outputs": [
    {
     "name": "stdout",
     "output_type": "stream",
     "text": [
      "[1]\n",
      "[1, 1]\n",
      "[1, 2, 1]\n",
      "[1, 3, 3, 1]\n",
      "[1, 4, 6, 4, 1]\n"
     ]
    }
   ],
   "source": [
    "lst=[1] \n",
    "for i in range(5): \n",
    "    print(lst) \n",
    "    mylist=[] \n",
    "    mylist.append(lst[0]) \n",
    "    for i in range(len(lst)-1): \n",
    "        mylist.append(lst[i]+lst[i+1]) \n",
    "    mylist.append(lst[-1]) \n",
    "    lst=mylist"
   ]
  },
  {
   "cell_type": "code",
   "execution_count": null,
   "id": "7e2d8e04",
   "metadata": {},
   "outputs": [],
   "source": []
  }
 ],
 "metadata": {
  "kernelspec": {
   "display_name": "Python 3",
   "language": "python",
   "name": "python3"
  },
  "language_info": {
   "codemirror_mode": {
    "name": "ipython",
    "version": 3
   },
   "file_extension": ".py",
   "mimetype": "text/x-python",
   "name": "python",
   "nbconvert_exporter": "python",
   "pygments_lexer": "ipython3",
   "version": "3.8.8"
  }
 },
 "nbformat": 4,
 "nbformat_minor": 5
}
