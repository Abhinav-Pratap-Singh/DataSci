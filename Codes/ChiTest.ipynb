{
 "cells": [
  {
   "cell_type": "code",
   "execution_count": 1,
   "id": "025d2c51",
   "metadata": {},
   "outputs": [],
   "source": [
    "from scipy.stats import chi2\n",
    "from scipy.stats import chi2_contingency"
   ]
  },
  {
   "cell_type": "code",
   "execution_count": 2,
   "id": "07c6b6dc",
   "metadata": {},
   "outputs": [],
   "source": [
    "table=[[69,120,123],\n",
    "       [56,80,52]]"
   ]
  },
  {
   "cell_type": "code",
   "execution_count": 3,
   "id": "38dde93a",
   "metadata": {},
   "outputs": [],
   "source": [
    "chiVal, pVal, df, exp =chi2_contingency(table)"
   ]
  },
  {
   "cell_type": "code",
   "execution_count": 4,
   "id": "50220f9f",
   "metadata": {},
   "outputs": [
    {
     "name": "stdout",
     "output_type": "stream",
     "text": [
      "ChiValue is  7.891045125087675\n"
     ]
    }
   ],
   "source": [
    "print(\"ChiValue is \",chiVal)"
   ]
  },
  {
   "cell_type": "code",
   "execution_count": 5,
   "id": "00056d80",
   "metadata": {},
   "outputs": [
    {
     "name": "stdout",
     "output_type": "stream",
     "text": [
      "Degree of Freedom = 2\n"
     ]
    }
   ],
   "source": [
    "print('Degree of Freedom =',df)"
   ]
  },
  {
   "cell_type": "code",
   "execution_count": 6,
   "id": "11f9003b",
   "metadata": {},
   "outputs": [
    {
     "name": "stdout",
     "output_type": "stream",
     "text": [
      "P value is  0.019341106790498865\n"
     ]
    }
   ],
   "source": [
    "print('P value is ',pVal)"
   ]
  },
  {
   "cell_type": "code",
   "execution_count": 7,
   "id": "acff71a8",
   "metadata": {},
   "outputs": [
    {
     "name": "stdout",
     "output_type": "stream",
     "text": [
      "Expected values are \n",
      " [[ 78.  124.8 109.2]\n",
      " [ 47.   75.2  65.8]]\n"
     ]
    }
   ],
   "source": [
    "print('Expected values are \\n',exp)"
   ]
  },
  {
   "cell_type": "code",
   "execution_count": 8,
   "id": "1746d484",
   "metadata": {},
   "outputs": [
    {
     "name": "stdout",
     "output_type": "stream",
     "text": [
      "Critical Value is  5.991464547107979\n"
     ]
    }
   ],
   "source": [
    "alpha=0.05\n",
    "critical=chi2.ppf(q=1-alpha,df=df)\n",
    "print(\"Critical Value is \",critical)"
   ]
  },
  {
   "cell_type": "code",
   "execution_count": 9,
   "id": "5f064b3d",
   "metadata": {},
   "outputs": [
    {
     "name": "stdout",
     "output_type": "stream",
     "text": [
      "Reject H0 \n",
      "Reject H0\n"
     ]
    }
   ],
   "source": [
    "if pVal<=alpha:\n",
    "    print(\"Reject H0 \")\n",
    "else :\n",
    "    print(\"Do not Reject Ho\" )\n",
    "    \n",
    "if chiVal>=critical:\n",
    "    print(\"Reject H0\")\n",
    "else :\n",
    "    print(\"Do not Reject Ho\")\n"
   ]
  },
  {
   "cell_type": "code",
   "execution_count": null,
   "id": "d3fef4e3",
   "metadata": {},
   "outputs": [],
   "source": []
  }
 ],
 "metadata": {
  "kernelspec": {
   "display_name": "Python 3",
   "language": "python",
   "name": "python3"
  },
  "language_info": {
   "codemirror_mode": {
    "name": "ipython",
    "version": 3
   },
   "file_extension": ".py",
   "mimetype": "text/x-python",
   "name": "python",
   "nbconvert_exporter": "python",
   "pygments_lexer": "ipython3",
   "version": "3.8.8"
  }
 },
 "nbformat": 4,
 "nbformat_minor": 5
}
