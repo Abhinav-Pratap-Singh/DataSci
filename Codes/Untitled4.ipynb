{
 "cells": [
  {
   "cell_type": "code",
   "execution_count": 19,
   "id": "d9ebe5af",
   "metadata": {},
   "outputs": [
    {
     "name": "stdout",
     "output_type": "stream",
     "text": [
      "512 64 512\n"
     ]
    }
   ],
   "source": [
    "print(2**(3**2),(2**3)**2,2**3**2)"
   ]
  },
  {
   "cell_type": "code",
   "execution_count": 3,
   "id": "ad034445",
   "metadata": {},
   "outputs": [
    {
     "name": "stdout",
     "output_type": "stream",
     "text": [
      "{'student_id': 'A2305219486', 'student_name': 'Abhinav', 'class_name': 'V55'}\n"
     ]
    }
   ],
   "source": [
    "class Student: \n",
    "    def __init__(self, student_id, student_name, class_name):\n",
    "        self.student_id = student_id\n",
    "        self.student_name = student_name\n",
    "        self.class_name = class_name \n",
    "student = Student('A2305219486', 'Abhinav', 'CSE7')\n",
    "print(student.__dict__)"
   ]
  },
  {
   "cell_type": "code",
   "execution_count": 4,
   "id": "4ac28d01",
   "metadata": {},
   "outputs": [
    {
     "name": "stdout",
     "output_type": "stream",
     "text": [
      "Student ID: A2305219486\n",
      "Student Name: Abhinav\n",
      "Class: CSE7\n"
     ]
    }
   ],
   "source": [
    "def student(student_id, student_name, student_class):\n",
    "    return f'Student ID: {student_id}\\nStudent Name: {student_name}\\nClass: {student_class}'\n",
    "print(student('A2305219486', 'Abhinav', 'CSE7'))"
   ]
  },
  {
   "cell_type": "code",
   "execution_count": 3,
   "id": "657a9297",
   "metadata": {},
   "outputs": [
    {
     "ename": "FileNotFoundError",
     "evalue": "[Errno 2] No such file or directory: 'test.txt'",
     "output_type": "error",
     "traceback": [
      "\u001b[1;31m---------------------------------------------------------------------------\u001b[0m",
      "\u001b[1;31mFileNotFoundError\u001b[0m                         Traceback (most recent call last)",
      "\u001b[1;32m<ipython-input-3-1d7adcf3b941>\u001b[0m in \u001b[0;36m<module>\u001b[1;34m\u001b[0m\n\u001b[0;32m      2\u001b[0m     \u001b[0mtxt\u001b[0m\u001b[1;33m=\u001b[0m\u001b[0mopen\u001b[0m\u001b[1;33m(\u001b[0m\u001b[0mname\u001b[0m\u001b[1;33m)\u001b[0m\u001b[1;33m\u001b[0m\u001b[1;33m\u001b[0m\u001b[0m\n\u001b[0;32m      3\u001b[0m     \u001b[0mprint\u001b[0m\u001b[1;33m(\u001b[0m\u001b[0mtxt\u001b[0m\u001b[1;33m.\u001b[0m\u001b[0mread\u001b[0m\u001b[1;33m(\u001b[0m\u001b[1;33m)\u001b[0m\u001b[1;33m)\u001b[0m\u001b[1;33m\u001b[0m\u001b[1;33m\u001b[0m\u001b[0m\n\u001b[1;32m----> 4\u001b[1;33m \u001b[0mfread\u001b[0m\u001b[1;33m(\u001b[0m\u001b[1;34m'test.txt'\u001b[0m\u001b[1;33m)\u001b[0m\u001b[1;33m\u001b[0m\u001b[1;33m\u001b[0m\u001b[0m\n\u001b[0m",
      "\u001b[1;32m<ipython-input-3-1d7adcf3b941>\u001b[0m in \u001b[0;36mfread\u001b[1;34m(name)\u001b[0m\n\u001b[0;32m      1\u001b[0m \u001b[1;32mdef\u001b[0m \u001b[0mfread\u001b[0m\u001b[1;33m(\u001b[0m\u001b[0mname\u001b[0m\u001b[1;33m)\u001b[0m\u001b[1;33m:\u001b[0m\u001b[1;33m\u001b[0m\u001b[1;33m\u001b[0m\u001b[0m\n\u001b[1;32m----> 2\u001b[1;33m     \u001b[0mtxt\u001b[0m\u001b[1;33m=\u001b[0m\u001b[0mopen\u001b[0m\u001b[1;33m(\u001b[0m\u001b[0mname\u001b[0m\u001b[1;33m)\u001b[0m\u001b[1;33m\u001b[0m\u001b[1;33m\u001b[0m\u001b[0m\n\u001b[0m\u001b[0;32m      3\u001b[0m     \u001b[0mprint\u001b[0m\u001b[1;33m(\u001b[0m\u001b[0mtxt\u001b[0m\u001b[1;33m.\u001b[0m\u001b[0mread\u001b[0m\u001b[1;33m(\u001b[0m\u001b[1;33m)\u001b[0m\u001b[1;33m)\u001b[0m\u001b[1;33m\u001b[0m\u001b[1;33m\u001b[0m\u001b[0m\n\u001b[0;32m      4\u001b[0m \u001b[0mfread\u001b[0m\u001b[1;33m(\u001b[0m\u001b[1;34m'test.txt'\u001b[0m\u001b[1;33m)\u001b[0m\u001b[1;33m\u001b[0m\u001b[1;33m\u001b[0m\u001b[0m\n",
      "\u001b[1;31mFileNotFoundError\u001b[0m: [Errno 2] No such file or directory: 'test.txt'"
     ]
    }
   ],
   "source": [
    "def fread(name):\n",
    "    txt=open(name)\n",
    "    print(txt.read())\n",
    "fread('file.txt')"
   ]
  },
  {
   "cell_type": "code",
   "execution_count": null,
   "id": "f763ac2c",
   "metadata": {},
   "outputs": [],
   "source": [
    "def file_read_from_head(fname, nlines):\n",
    "        from itertools import islice\n",
    "        with open(fname) as f:\n",
    "                for line in islice(f, nlines):\n",
    "                        print(line)\n",
    "file_read_from_head('test.txt',2)"
   ]
  },
  {
   "cell_type": "code",
   "execution_count": 3,
   "id": "186dc377",
   "metadata": {},
   "outputs": [
    {
     "name": "stdout",
     "output_type": "stream",
     "text": [
      "5\n"
     ]
    }
   ],
   "source": [
    "a=[\"Pratap\",[4,5,6,8]]\n",
    "print(a[1][1])"
   ]
  },
  {
   "cell_type": "code",
   "execution_count": 5,
   "id": "22f61506",
   "metadata": {},
   "outputs": [],
   "source": [
    "ab=[\"Abhinav\",\"Sanjeev\",\"Raman\",\"Rome\"]\n",
    "ans=[x for x in ab if \"a\" in x]"
   ]
  },
  {
   "cell_type": "code",
   "execution_count": 6,
   "id": "aa1e6fba",
   "metadata": {},
   "outputs": [
    {
     "name": "stdout",
     "output_type": "stream",
     "text": [
      "['Abhinav', 'Sanjeev', 'Raman']\n"
     ]
    }
   ],
   "source": [
    "print(ans)"
   ]
  },
  {
   "cell_type": "code",
   "execution_count": 8,
   "id": "90ed3ac8",
   "metadata": {},
   "outputs": [
    {
     "name": "stdout",
     "output_type": "stream",
     "text": [
      "<class 'tuple'>\n"
     ]
    }
   ],
   "source": [
    "a=\"Rajeev\",\n",
    "print(type(a))"
   ]
  },
  {
   "cell_type": "code",
   "execution_count": 9,
   "id": "550f26bf",
   "metadata": {},
   "outputs": [
    {
     "name": "stdout",
     "output_type": "stream",
     "text": [
      "1\n"
     ]
    }
   ],
   "source": [
    "print(ab.count(\"Abhinav\"))"
   ]
  },
  {
   "cell_type": "code",
   "execution_count": 12,
   "id": "000445df",
   "metadata": {},
   "outputs": [
    {
     "name": "stdout",
     "output_type": "stream",
     "text": [
      "<class 'tuple'>\n",
      "5\n"
     ]
    }
   ],
   "source": [
    "t=1,2,3,4,5\n",
    "print(type(t))\n",
    "print(max(t))"
   ]
  },
  {
   "cell_type": "code",
   "execution_count": 1,
   "id": "9f05f46c",
   "metadata": {},
   "outputs": [
    {
     "name": "stdout",
     "output_type": "stream",
     "text": [
      "{'google', 'cherry', 'banana', 'microsoft'}\n"
     ]
    }
   ],
   "source": [
    "x = {\"apple\", \"banana\", \"cherry\"}\n",
    "y = {\"google\", \"microsoft\", \"apple\"}\n",
    "z = x.symmetric_difference(y)\n",
    "print(z)\n"
   ]
  },
  {
   "cell_type": "code",
   "execution_count": null,
   "id": "6a068fad",
   "metadata": {},
   "outputs": [],
   "source": []
  }
 ],
 "metadata": {
  "kernelspec": {
   "display_name": "Python 3",
   "language": "python",
   "name": "python3"
  },
  "language_info": {
   "codemirror_mode": {
    "name": "ipython",
    "version": 3
   },
   "file_extension": ".py",
   "mimetype": "text/x-python",
   "name": "python",
   "nbconvert_exporter": "python",
   "pygments_lexer": "ipython3",
   "version": "3.8.8"
  }
 },
 "nbformat": 4,
 "nbformat_minor": 5
}
