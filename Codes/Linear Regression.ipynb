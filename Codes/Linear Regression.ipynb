{
 "cells": [
  {
   "cell_type": "code",
   "execution_count": 1,
   "id": "e9a12d3d",
   "metadata": {},
   "outputs": [
    {
     "name": "stdout",
     "output_type": "stream",
     "text": [
      "   Gender  Age Range  Head Size(cm^3)  Brain Weight(grams)\n",
      "0       1          1             4512                 1530\n",
      "1       1          1             3738                 1297\n",
      "2       1          1             4261                 1335\n",
      "3       1          1             3777                 1282\n",
      "4       1          1             4177                 1590\n"
     ]
    }
   ],
   "source": [
    "%matplotlib inline\n",
    "import numpy as np\n",
    "import pandas as pd \n",
    "import matplotlib.pyplot as plt\n",
    "df=pd.read_csv('headbrain.csv')\n",
    "print(df.head(5))"
   ]
  },
  {
   "cell_type": "code",
   "execution_count": 2,
   "id": "1071ab93",
   "metadata": {},
   "outputs": [],
   "source": [
    "X=df['Head Size(cm^3)'].values\n",
    "Y=df['Brain Weight(grams)'].values"
   ]
  },
  {
   "cell_type": "code",
   "execution_count": 3,
   "id": "27cba4e0",
   "metadata": {},
   "outputs": [
    {
     "name": "stdout",
     "output_type": "stream",
     "text": [
      "The value of b0 is  325.57342104944223\n",
      "The value of b1 is  0.26342933948939945\n"
     ]
    }
   ],
   "source": [
    "mean_x=np.mean(X)\n",
    "mean_y=np.mean(Y)\n",
    "\n",
    "n=len(X)\n",
    "numer=0\n",
    "denom=0\n",
    "for i in range(n):\n",
    "    numer+=(X[i]-mean_x)*(Y[i]-mean_y)\n",
    "    denom+=(X[i]-mean_x)**2\n",
    "\n",
    "b1=numer/denom\n",
    "b0=mean_y-(b1*mean_x)\n",
    "\n",
    "print(\"The value of b0 is \",b0)\n",
    "print(\"The value of b1 is \",b1)"
   ]
  },
  {
   "cell_type": "code",
   "execution_count": 4,
   "id": "d2be62f6",
   "metadata": {},
   "outputs": [
    {
     "name": "stdout",
     "output_type": "stream",
     "text": [
      "R2 score is  0.6393117199570003\n"
     ]
    }
   ],
   "source": [
    "#Coefficient of determination R2 score using formula\n",
    "ss_t=0\n",
    "ss_r=0\n",
    "for i in range(n):\n",
    "    y_pred=b0+b1*X[i]\n",
    "    ss_t+=(Y[i]-mean_y)**2\n",
    "    ss_r+=(Y[i]-y_pred)**2\n",
    "\n",
    "r2=1-(ss_r/ss_t)\n",
    "print(\"R2 score is \",r2)"
   ]
  },
  {
   "cell_type": "code",
   "execution_count": 5,
   "id": "59f2dc2d",
   "metadata": {},
   "outputs": [
    {
     "name": "stdout",
     "output_type": "stream",
     "text": [
      "R2 score is  0.639311719957\n"
     ]
    }
   ],
   "source": [
    "#Coefficient of determination R2 score using Function \n",
    "from sklearn.linear_model import LinearRegression\n",
    "from sklearn.metrics import mean_squared_error\n",
    "\n",
    "X=X.reshape((n,1))\n",
    "reg=LinearRegression()\n",
    "reg=reg.fit(X,Y)\n",
    "Y_pred=reg.predict(X)\n",
    "\n",
    "r2_score=reg.score(X,Y)\n",
    "\n",
    "print(\"R2 score is \",r2_score)"
   ]
  },
  {
   "cell_type": "code",
   "execution_count": 6,
   "id": "c59e9831",
   "metadata": {},
   "outputs": [],
   "source": [
    "def plot_regression_line(x, y, b):\n",
    "    plt.scatter(x, y, color = \"m\",marker = \"o\", s = 30)\n",
    "    y_pred = b[0] + b[1]*x\n",
    "    plt.plot(x, y_pred, color = \"g\")\n",
    "    plt.xlabel('x')\n",
    "    plt.ylabel('y')\n",
    "    plt.show()\n"
   ]
  },
  {
   "cell_type": "code",
   "execution_count": 7,
   "id": "44ff503f",
   "metadata": {},
   "outputs": [
    {
     "name": "stdout",
     "output_type": "stream",
     "text": [
      "[325.57342104944223, 0.26342933948939945]\n"
     ]
    },
    {
     "data": {
      "image/png": "[encoded data removed]",
      "text/plain": [
       "<Figure size 432x288 with 1 Axes>"
      ]
     },
     "metadata": {
      "needs_background": "light"
     },
     "output_type": "display_data"
    }
   ],
   "source": [
    "b=[]\n",
    "b.append(b0)\n",
    "b.append(b1)\n",
    "print(b)\n",
    "plot_regression_line(X,Y,b)"
   ]
  }
 ],
 "metadata": {
  "kernelspec": {
   "display_name": "Python 3",
   "language": "python",
   "name": "python3"
  },
  "language_info": {
   "codemirror_mode": {
    "name": "ipython",
    "version": 3
   },
   "file_extension": ".py",
   "mimetype": "text/x-python",
   "name": "python",
   "nbconvert_exporter": "python",
   "pygments_lexer": "ipython3",
   "version": "3.8.8"
  }
 },
 "nbformat": 4,
 "nbformat_minor": 5
}
