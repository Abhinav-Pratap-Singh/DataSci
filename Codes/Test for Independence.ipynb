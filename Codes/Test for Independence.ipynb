{
 "cells": [
  {
   "cell_type": "markdown",
   "id": "5839fa28",
   "metadata": {},
   "source": [
    "# Test for Independence"
   ]
  },
  {
   "cell_type": "code",
   "execution_count": 1,
   "id": "79fd5798",
   "metadata": {},
   "outputs": [
    {
     "name": "stdout",
     "output_type": "stream",
     "text": [
      "COLUMNS   A   B   C\n",
      "ROWS               \n",
      "P        20  30  20\n",
      "Q        30  60  25\n",
      "R        10  15  30\n"
     ]
    }
   ],
   "source": [
    "import pandas as pd\n",
    "import scipy.stats as stats\n",
    "data = [['P', 'A'] for i in range(20)] +  \\\n",
    "        [['P', 'B'] for i in range(30)] + \\\n",
    "        [['P', 'C'] for i in range(20)] + \\\n",
    "        [['Q', 'A'] for i in range(30)] + \\\n",
    "        [['Q', 'B'] for i in range(60)] + \\\n",
    "        [['Q', 'C'] for i in range(25)] + \\\n",
    "        [['R', 'A'] for i in range(10)] + \\\n",
    "        [['R', 'B'] for i in range(15)] + \\\n",
    "        [['R', 'C'] for i in range(30)] \n",
    "df = pd.DataFrame(data, columns = ['ROWS', 'COLUMNS']) \n",
    "myCrosstable=pd.crosstab(df['ROWS'],df['COLUMNS'])\n",
    "print(myCrosstable)\n",
    "alpha=0.05"
   ]
  },
  {
   "cell_type": "code",
   "execution_count": 2,
   "id": "b78a4cc3",
   "metadata": {},
   "outputs": [
    {
     "data": {
      "text/plain": [
       "(19.76607243687989,\n",
       " 0.0005553950188302971,\n",
       " 4,\n",
       " array([[17.5   , 30.625 , 21.875 ],\n",
       "        [28.75  , 50.3125, 35.9375],\n",
       "        [13.75  , 24.0625, 17.1875]]))"
      ]
     },
     "execution_count": 2,
     "metadata": {},
     "output_type": "execute_result"
    }
   ],
   "source": [
    "chiVal, pVal, df, exp = stats.chi2_contingency(myCrosstable)\n",
    "chiVal, pVal, df, exp"
   ]
  },
  {
   "cell_type": "code",
   "execution_count": 3,
   "id": "a8eee766",
   "metadata": {},
   "outputs": [],
   "source": [
    "from scipy.stats import chi2\n",
    "critical=chi2.ppf(q=1-alpha,df=df)"
   ]
  },
  {
   "cell_type": "code",
   "execution_count": 4,
   "id": "fe0bb070",
   "metadata": {},
   "outputs": [
    {
     "name": "stdout",
     "output_type": "stream",
     "text": [
      "Reject H0 :Row is not independent of the column variable\n",
      "Reject H0 :Row is not independent of the column variable\n"
     ]
    }
   ],
   "source": [
    "# Ho: Row is independent of the column variable\n",
    "# Ha: Row is not independent of the column variable\n",
    "if pVal<=alpha:\n",
    "    print(\"Reject H0 :Row is not independent of the column variable\")\n",
    "else :\n",
    "    print(\"Do not Reject Ho :Row is independent of the column variable\")\n",
    "    \n",
    "if chiVal>=critical:\n",
    "    print(\"Reject H0 :Row is not independent of the column variable\")\n",
    "else :\n",
    "    print(\"Do not Reject Ho :Row is independent of the column variable\")\n"
   ]
  },
  {
   "cell_type": "markdown",
   "id": "8016c376",
   "metadata": {},
   "source": [
    "# Repetition"
   ]
  },
  {
   "cell_type": "code",
   "execution_count": 5,
   "id": "5f11d245",
   "metadata": {},
   "outputs": [
    {
     "data": {
      "text/plain": [
       "(COLUMNS\n",
       " A     60\n",
       " B    105\n",
       " C     75\n",
       " dtype: int64,\n",
       " ROWS\n",
       " P     70\n",
       " Q    115\n",
       " R     55\n",
       " dtype: int64)"
      ]
     },
     "execution_count": 5,
     "metadata": {},
     "output_type": "execute_result"
    }
   ],
   "source": [
    "colTotals = myCrosstable.sum()\n",
    "rowTotals = myCrosstable.sum(axis=1)\n",
    "\n",
    "colTotals, rowTotals"
   ]
  },
  {
   "cell_type": "code",
   "execution_count": 6,
   "id": "2b21af55",
   "metadata": {},
   "outputs": [
    {
     "data": {
      "text/plain": [
       "(3, 3)"
      ]
     },
     "execution_count": 6,
     "metadata": {},
     "output_type": "execute_result"
    }
   ],
   "source": [
    "nCols = len(colTotals)\n",
    "nRows = len(rowTotals)\n",
    "\n",
    "nCols, nRows"
   ]
  },
  {
   "cell_type": "code",
   "execution_count": 7,
   "id": "64088469",
   "metadata": {},
   "outputs": [
    {
     "data": {
      "text/plain": [
       "240"
      ]
     },
     "execution_count": 7,
     "metadata": {},
     "output_type": "execute_result"
    }
   ],
   "source": [
    "N = rowTotals.sum()\n",
    "N"
   ]
  },
  {
   "cell_type": "code",
   "execution_count": 8,
   "id": "a075fd0e",
   "metadata": {},
   "outputs": [
    {
     "name": "stdout",
     "output_type": "stream",
     "text": [
      "17.5\n",
      "30.625\n",
      "21.875\n",
      "28.75\n",
      "50.3125\n",
      "35.9375\n",
      "13.75\n",
      "24.0625\n",
      "17.1875\n"
     ]
    }
   ],
   "source": [
    "for i in range(nRows):\n",
    "    for j in range(nCols):\n",
    "        E = rowTotals[i] * colTotals[j] / N\n",
    "        print(E)"
   ]
  },
  {
   "cell_type": "code",
   "execution_count": 9,
   "id": "ff3c15c7",
   "metadata": {},
   "outputs": [
    {
     "data": {
      "text/plain": [
       "19.766072436879888"
      ]
     },
     "execution_count": 9,
     "metadata": {},
     "output_type": "execute_result"
    }
   ],
   "source": [
    "chiVal = 0\n",
    "for i in range(nRows):\n",
    "    for j in range(nCols):\n",
    "        E = rowTotals[i] * colTotals[j] / N\n",
    "        O = myCrosstable.iloc[i,j]\n",
    "        chiVal = chiVal + (O - E)**2 / E\n",
    "chiVal"
   ]
  },
  {
   "cell_type": "code",
   "execution_count": 10,
   "id": "d916f90f",
   "metadata": {},
   "outputs": [
    {
     "data": {
      "text/plain": [
       "4"
      ]
     },
     "execution_count": 10,
     "metadata": {},
     "output_type": "execute_result"
    }
   ],
   "source": [
    "df = (nRows - 1) * (nCols - 1)\n",
    "df"
   ]
  },
  {
   "cell_type": "code",
   "execution_count": null,
   "id": "508994b5",
   "metadata": {},
   "outputs": [],
   "source": []
  },
  {
   "cell_type": "code",
   "execution_count": null,
   "id": "41083285",
   "metadata": {},
   "outputs": [],
   "source": []
  }
 ],
 "metadata": {
  "kernelspec": {
   "display_name": "Python 3",
   "language": "python",
   "name": "python3"
  },
  "language_info": {
   "codemirror_mode": {
    "name": "ipython",
    "version": 3
   },
   "file_extension": ".py",
   "mimetype": "text/x-python",
   "name": "python",
   "nbconvert_exporter": "python",
   "pygments_lexer": "ipython3",
   "version": "3.8.8"
  }
 },
 "nbformat": 4,
 "nbformat_minor": 5
}
